{
 "cells": [
  {
   "cell_type": "markdown",
   "metadata": {},
   "source": [
    "### Note\n",
    "* Instructions have been included for each segment. You do not have to follow them exactly, but they are included to help you think through the steps."
   ]
  },
  {
   "cell_type": "code",
   "execution_count": null,
   "metadata": {},
   "outputs": [],
   "source": [
    "# resources used: \n",
    "#https://stackoverflow.com/questions/20937538/how-to-display-pandas-dataframe-of-floats-using-a-format-string-for-columns\n",
    "#https://stackoverflow.com/questions/45163256/how-to-format-numbers-as-percentage-values-in-javascript\n",
    "#https://stackoverflow.com/questions/20937538/how-to-display-pandas-dataframe-of-floats-using-a-format-string-for-columns\n",
    "#https://stackoverflow.com/questions/20937538/how-to-display-pandas-dataframe-of-floats-using-a-format-string-for-columns\n"
   ]
  },
  {
   "cell_type": "code",
   "execution_count": 425,
   "metadata": {},
   "outputs": [
    {
     "data": {
      "text/html": [
       "<div>\n",
       "<style scoped>\n",
       "    .dataframe tbody tr th:only-of-type {\n",
       "        vertical-align: middle;\n",
       "    }\n",
       "\n",
       "    .dataframe tbody tr th {\n",
       "        vertical-align: top;\n",
       "    }\n",
       "\n",
       "    .dataframe thead th {\n",
       "        text-align: right;\n",
       "    }\n",
       "</style>\n",
       "<table border=\"1\" class=\"dataframe\">\n",
       "  <thead>\n",
       "    <tr style=\"text-align: right;\">\n",
       "      <th></th>\n",
       "      <th>Purchase ID</th>\n",
       "      <th>SN</th>\n",
       "      <th>Age</th>\n",
       "      <th>Gender</th>\n",
       "      <th>Item ID</th>\n",
       "      <th>Item Name</th>\n",
       "      <th>Price</th>\n",
       "    </tr>\n",
       "  </thead>\n",
       "  <tbody>\n",
       "    <tr>\n",
       "      <td>0</td>\n",
       "      <td>0</td>\n",
       "      <td>Lisim78</td>\n",
       "      <td>20</td>\n",
       "      <td>Male</td>\n",
       "      <td>108</td>\n",
       "      <td>Extraction, Quickblade Of Trembling Hands</td>\n",
       "      <td>3.53</td>\n",
       "    </tr>\n",
       "    <tr>\n",
       "      <td>1</td>\n",
       "      <td>1</td>\n",
       "      <td>Lisovynya38</td>\n",
       "      <td>40</td>\n",
       "      <td>Male</td>\n",
       "      <td>143</td>\n",
       "      <td>Frenzied Scimitar</td>\n",
       "      <td>1.56</td>\n",
       "    </tr>\n",
       "    <tr>\n",
       "      <td>2</td>\n",
       "      <td>2</td>\n",
       "      <td>Ithergue48</td>\n",
       "      <td>24</td>\n",
       "      <td>Male</td>\n",
       "      <td>92</td>\n",
       "      <td>Final Critic</td>\n",
       "      <td>4.88</td>\n",
       "    </tr>\n",
       "    <tr>\n",
       "      <td>3</td>\n",
       "      <td>3</td>\n",
       "      <td>Chamassasya86</td>\n",
       "      <td>24</td>\n",
       "      <td>Male</td>\n",
       "      <td>100</td>\n",
       "      <td>Blindscythe</td>\n",
       "      <td>3.27</td>\n",
       "    </tr>\n",
       "    <tr>\n",
       "      <td>4</td>\n",
       "      <td>4</td>\n",
       "      <td>Iskosia90</td>\n",
       "      <td>23</td>\n",
       "      <td>Male</td>\n",
       "      <td>131</td>\n",
       "      <td>Fury</td>\n",
       "      <td>1.44</td>\n",
       "    </tr>\n",
       "  </tbody>\n",
       "</table>\n",
       "</div>"
      ],
      "text/plain": [
       "   Purchase ID             SN  Age Gender  Item ID  \\\n",
       "0            0        Lisim78   20   Male      108   \n",
       "1            1    Lisovynya38   40   Male      143   \n",
       "2            2     Ithergue48   24   Male       92   \n",
       "3            3  Chamassasya86   24   Male      100   \n",
       "4            4      Iskosia90   23   Male      131   \n",
       "\n",
       "                                   Item Name  Price  \n",
       "0  Extraction, Quickblade Of Trembling Hands   3.53  \n",
       "1                          Frenzied Scimitar   1.56  \n",
       "2                               Final Critic   4.88  \n",
       "3                                Blindscythe   3.27  \n",
       "4                                       Fury   1.44  "
      ]
     },
     "execution_count": 425,
     "metadata": {},
     "output_type": "execute_result"
    }
   ],
   "source": [
    "# Dependencies and Setup\n",
    "import pandas as pd\n",
    "\n",
    "import numpy as np\n",
    "# File to Load (Remember to Change These)\n",
    "file_to_load = \"04-Pandas_Homework_HeroesOfPymoli_Resources_purchase_data.csv\"\n",
    "\n",
    "# Read Purchasing File and store into Pandas data frame\n",
    "purchase_data = pd.read_csv(file_to_load)\n",
    "\n",
    "purchase_data.head()"
   ]
  },
  {
   "cell_type": "markdown",
   "metadata": {},
   "source": [
    "## Player Count"
   ]
  },
  {
   "cell_type": "markdown",
   "metadata": {},
   "source": [
    "* Display the total number of players\n"
   ]
  },
  {
   "cell_type": "code",
   "execution_count": 426,
   "metadata": {},
   "outputs": [
    {
     "data": {
      "text/plain": [
       "576"
      ]
     },
     "execution_count": 426,
     "metadata": {},
     "output_type": "execute_result"
    }
   ],
   "source": [
    "purchase_data['SN'].nunique()"
   ]
  },
  {
   "cell_type": "markdown",
   "metadata": {},
   "source": [
    "## Purchasing Analysis (Total)"
   ]
  },
  {
   "cell_type": "markdown",
   "metadata": {},
   "source": [
    "* Run basic calculations to obtain number of unique items, average price, etc.\n",
    "\n",
    "\n",
    "* Create a summary data frame to hold the results\n",
    "\n",
    "\n",
    "* Optional: give the displayed data cleaner formatting\n",
    "\n",
    "\n",
    "* Display the summary data frame\n"
   ]
  },
  {
   "cell_type": "code",
   "execution_count": 427,
   "metadata": {
    "scrolled": true
   },
   "outputs": [
    {
     "data": {
      "text/plain": [
       "179"
      ]
     },
     "execution_count": 427,
     "metadata": {},
     "output_type": "execute_result"
    }
   ],
   "source": [
    "unique_items = purchase_data['Item Name'].nunique()\n",
    "unique_items"
   ]
  },
  {
   "cell_type": "code",
   "execution_count": 428,
   "metadata": {},
   "outputs": [
    {
     "data": {
      "text/plain": [
       "3.05"
      ]
     },
     "execution_count": 428,
     "metadata": {},
     "output_type": "execute_result"
    }
   ],
   "source": [
    "avg_price = purchase_data['Price'].mean()\n",
    "avg_prices = np.around(avg_price, 2)\n",
    "avg_prices"
   ]
  },
  {
   "cell_type": "code",
   "execution_count": 429,
   "metadata": {},
   "outputs": [
    {
     "data": {
      "text/plain": [
       "2379.77"
      ]
     },
     "execution_count": 429,
     "metadata": {},
     "output_type": "execute_result"
    }
   ],
   "source": [
    "total_revenue = purchase_data['Price'].sum()\n",
    "total_revenue"
   ]
  },
  {
   "cell_type": "code",
   "execution_count": 430,
   "metadata": {},
   "outputs": [
    {
     "data": {
      "text/plain": [
       "780"
      ]
     },
     "execution_count": 430,
     "metadata": {},
     "output_type": "execute_result"
    }
   ],
   "source": [
    "unique_purchases = purchase_data['Purchase ID'].nunique()\n",
    "unique_purchases"
   ]
  },
  {
   "cell_type": "code",
   "execution_count": 431,
   "metadata": {},
   "outputs": [
    {
     "name": "stdout",
     "output_type": "stream",
     "text": [
      "   Unique Items  Average Price  Unique Purchases  Total Revenue\n",
      "1           179           3.05               780        2379.77\n"
     ]
    },
    {
     "data": {
      "text/html": [
       "<div>\n",
       "<style scoped>\n",
       "    .dataframe tbody tr th:only-of-type {\n",
       "        vertical-align: middle;\n",
       "    }\n",
       "\n",
       "    .dataframe tbody tr th {\n",
       "        vertical-align: top;\n",
       "    }\n",
       "\n",
       "    .dataframe thead th {\n",
       "        text-align: right;\n",
       "    }\n",
       "</style>\n",
       "<table border=\"1\" class=\"dataframe\">\n",
       "  <thead>\n",
       "    <tr style=\"text-align: right;\">\n",
       "      <th></th>\n",
       "      <th>Unique Items</th>\n",
       "      <th>Average Price</th>\n",
       "      <th>Unique Purchases</th>\n",
       "      <th>Total Revenue</th>\n",
       "    </tr>\n",
       "  </thead>\n",
       "  <tbody>\n",
       "    <tr>\n",
       "      <td>1</td>\n",
       "      <td>179</td>\n",
       "      <td>3.05</td>\n",
       "      <td>780</td>\n",
       "      <td>2379.77</td>\n",
       "    </tr>\n",
       "  </tbody>\n",
       "</table>\n",
       "</div>"
      ],
      "text/plain": [
       "   Unique Items  Average Price  Unique Purchases  Total Revenue\n",
       "1           179           3.05               780        2379.77"
      ]
     },
     "execution_count": 431,
     "metadata": {},
     "output_type": "execute_result"
    }
   ],
   "source": [
    "summary_purchase_data = pd.DataFrame({'Unique Items': unique_items, 'Average Price': avg_prices, 'Unique Purchases': unique_purchases, 'Total Revenue': total_revenue}, index = [1])\n",
    "print(summary_purchase_data)\n",
    "summary_purchase_data.head()"
   ]
  },
  {
   "cell_type": "markdown",
   "metadata": {},
   "source": [
    "* Percentage and Count of Male Players\n",
    "\n",
    "\n",
    "* Percentage and Count of Female Players\n",
    "\n",
    "\n",
    "* Percentage and Count of Other / Non-Disclosed\n",
    "\n",
    "\n"
   ]
  },
  {
   "cell_type": "code",
   "execution_count": 432,
   "metadata": {},
   "outputs": [
    {
     "name": "stdout",
     "output_type": "stream",
     "text": [
      "                       Purchase ID   SN  Age  Gender  Item ID  Item Name  \\\n",
      "Gender                                                                     \n",
      "Female                         113   81   22       1       90         90   \n",
      "Male                           652  484   39       1      182        178   \n",
      "Other / Non-Disclosed           15   11    8       1       13         13   \n",
      "\n",
      "                       Price  \n",
      "Gender                        \n",
      "Female                    79  \n",
      "Male                     144  \n",
      "Other / Non-Disclosed     12  \n"
     ]
    },
    {
     "data": {
      "text/plain": [
       "Purchase ID    3\n",
       "SN             3\n",
       "Age            3\n",
       "Gender         3\n",
       "Item ID        3\n",
       "dtype: int64"
      ]
     },
     "execution_count": 432,
     "metadata": {},
     "output_type": "execute_result"
    }
   ],
   "source": [
    "gender_group = purchase_data.groupby(['Gender']).nunique()\n",
    "print(gender_group)\n",
    "gender_group.count().head()"
   ]
  },
  {
   "cell_type": "code",
   "execution_count": 433,
   "metadata": {},
   "outputs": [
    {
     "data": {
      "text/plain": [
       "Gender\n",
       "Female                   1\n",
       "Male                     1\n",
       "Other / Non-Disclosed    1\n",
       "Name: Gender, dtype: int64"
      ]
     },
     "execution_count": 433,
     "metadata": {},
     "output_type": "execute_result"
    }
   ],
   "source": [
    "gender_type = gender_group['Gender']\n",
    "gender_type"
   ]
  },
  {
   "cell_type": "code",
   "execution_count": 434,
   "metadata": {},
   "outputs": [
    {
     "data": {
      "text/plain": [
       "array([ 81, 484,  11])"
      ]
     },
     "execution_count": 434,
     "metadata": {},
     "output_type": "execute_result"
    }
   ],
   "source": [
    "gender_total = gender_group['SN'].unique()\n",
    "gender_total"
   ]
  },
  {
   "cell_type": "code",
   "execution_count": 435,
   "metadata": {},
   "outputs": [
    {
     "data": {
      "text/plain": [
       "576"
      ]
     },
     "execution_count": 435,
     "metadata": {},
     "output_type": "execute_result"
    }
   ],
   "source": [
    "gender_total2 = gender_group['SN'].sum()\n",
    "gender_total2"
   ]
  },
  {
   "cell_type": "code",
   "execution_count": 436,
   "metadata": {},
   "outputs": [
    {
     "data": {
      "text/plain": [
       "array([14.06, 84.03,  1.91])"
      ]
     },
     "execution_count": 436,
     "metadata": {},
     "output_type": "execute_result"
    }
   ],
   "source": [
    "gender_percent = np.array((gender_total/gender_total2) * 100)\n",
    "gender_percentages = np.around(gender_percent, 2) \n",
    "gender_percentages"
   ]
  },
  {
   "cell_type": "code",
   "execution_count": 437,
   "metadata": {},
   "outputs": [
    {
     "name": "stdout",
     "output_type": "stream",
     "text": [
      "                       Gender  Count  Percentage\n",
      "Gender                                          \n",
      "Female                      1     81       14.06\n",
      "Male                        1    484       84.03\n",
      "Other / Non-Disclosed       1     11        1.91\n"
     ]
    },
    {
     "data": {
      "text/html": [
       "<div>\n",
       "<style scoped>\n",
       "    .dataframe tbody tr th:only-of-type {\n",
       "        vertical-align: middle;\n",
       "    }\n",
       "\n",
       "    .dataframe tbody tr th {\n",
       "        vertical-align: top;\n",
       "    }\n",
       "\n",
       "    .dataframe thead th {\n",
       "        text-align: right;\n",
       "    }\n",
       "</style>\n",
       "<table border=\"1\" class=\"dataframe\">\n",
       "  <thead>\n",
       "    <tr style=\"text-align: right;\">\n",
       "      <th></th>\n",
       "      <th>Gender</th>\n",
       "      <th>Count</th>\n",
       "      <th>Percentage</th>\n",
       "    </tr>\n",
       "    <tr>\n",
       "      <th>Gender</th>\n",
       "      <th></th>\n",
       "      <th></th>\n",
       "      <th></th>\n",
       "    </tr>\n",
       "  </thead>\n",
       "  <tbody>\n",
       "    <tr>\n",
       "      <td>Female</td>\n",
       "      <td>1</td>\n",
       "      <td>81</td>\n",
       "      <td>14.06</td>\n",
       "    </tr>\n",
       "    <tr>\n",
       "      <td>Male</td>\n",
       "      <td>1</td>\n",
       "      <td>484</td>\n",
       "      <td>84.03</td>\n",
       "    </tr>\n",
       "    <tr>\n",
       "      <td>Other / Non-Disclosed</td>\n",
       "      <td>1</td>\n",
       "      <td>11</td>\n",
       "      <td>1.91</td>\n",
       "    </tr>\n",
       "  </tbody>\n",
       "</table>\n",
       "</div>"
      ],
      "text/plain": [
       "                       Gender  Count  Percentage\n",
       "Gender                                          \n",
       "Female                      1     81       14.06\n",
       "Male                        1    484       84.03\n",
       "Other / Non-Disclosed       1     11        1.91"
      ]
     },
     "execution_count": 437,
     "metadata": {},
     "output_type": "execute_result"
    }
   ],
   "source": [
    "gender_summary = pd.DataFrame({'Gender': gender_type, 'Count': gender_total, 'Percentage': gender_percentages})\n",
    "print(gender_summary)\n",
    "gender_summary.head()"
   ]
  },
  {
   "cell_type": "markdown",
   "metadata": {},
   "source": [
    "# ## Purchasing Analysis (Gender)"
   ]
  },
  {
   "cell_type": "markdown",
   "metadata": {},
   "source": [
    "* Run basic calculations to obtain purchase count, avg. purchase price, avg. purchase total per person etc. by gender\n",
    "\n",
    "\n",
    "\n",
    "\n",
    "* Create a summary data frame to hold the results\n",
    "\n",
    "\n",
    "* Optional: give the displayed data cleaner formatting\n",
    "\n",
    "\n",
    "* Display the summary data frame"
   ]
  },
  {
   "cell_type": "code",
   "execution_count": 438,
   "metadata": {},
   "outputs": [
    {
     "name": "stdout",
     "output_type": "stream",
     "text": [
      "<pandas.core.groupby.generic.DataFrameGroupBy object at 0x7f9fdae6c890>\n"
     ]
    },
    {
     "data": {
      "text/html": [
       "<div>\n",
       "<style scoped>\n",
       "    .dataframe tbody tr th:only-of-type {\n",
       "        vertical-align: middle;\n",
       "    }\n",
       "\n",
       "    .dataframe tbody tr th {\n",
       "        vertical-align: top;\n",
       "    }\n",
       "\n",
       "    .dataframe thead th {\n",
       "        text-align: right;\n",
       "    }\n",
       "</style>\n",
       "<table border=\"1\" class=\"dataframe\">\n",
       "  <thead>\n",
       "    <tr style=\"text-align: right;\">\n",
       "      <th></th>\n",
       "      <th>Purchase ID</th>\n",
       "      <th>SN</th>\n",
       "      <th>Age</th>\n",
       "      <th>Item ID</th>\n",
       "      <th>Item Name</th>\n",
       "      <th>Price</th>\n",
       "    </tr>\n",
       "    <tr>\n",
       "      <th>Gender</th>\n",
       "      <th></th>\n",
       "      <th></th>\n",
       "      <th></th>\n",
       "      <th></th>\n",
       "      <th></th>\n",
       "      <th></th>\n",
       "    </tr>\n",
       "  </thead>\n",
       "  <tbody>\n",
       "    <tr>\n",
       "      <td>Female</td>\n",
       "      <td>113</td>\n",
       "      <td>113</td>\n",
       "      <td>113</td>\n",
       "      <td>113</td>\n",
       "      <td>113</td>\n",
       "      <td>113</td>\n",
       "    </tr>\n",
       "    <tr>\n",
       "      <td>Male</td>\n",
       "      <td>652</td>\n",
       "      <td>652</td>\n",
       "      <td>652</td>\n",
       "      <td>652</td>\n",
       "      <td>652</td>\n",
       "      <td>652</td>\n",
       "    </tr>\n",
       "    <tr>\n",
       "      <td>Other / Non-Disclosed</td>\n",
       "      <td>15</td>\n",
       "      <td>15</td>\n",
       "      <td>15</td>\n",
       "      <td>15</td>\n",
       "      <td>15</td>\n",
       "      <td>15</td>\n",
       "    </tr>\n",
       "  </tbody>\n",
       "</table>\n",
       "</div>"
      ],
      "text/plain": [
       "                       Purchase ID   SN  Age  Item ID  Item Name  Price\n",
       "Gender                                                                 \n",
       "Female                         113  113  113      113        113    113\n",
       "Male                           652  652  652      652        652    652\n",
       "Other / Non-Disclosed           15   15   15       15         15     15"
      ]
     },
     "execution_count": 438,
     "metadata": {},
     "output_type": "execute_result"
    }
   ],
   "source": [
    "gender_group_purchasing = purchase_data.groupby(['Gender'])\n",
    "print(gender_group_purchasing)\n",
    "gender_group_purchasing.count().head()"
   ]
  },
  {
   "cell_type": "code",
   "execution_count": 439,
   "metadata": {},
   "outputs": [
    {
     "name": "stdout",
     "output_type": "stream",
     "text": [
      "Gender\n",
      "Female                   113\n",
      "Male                     652\n",
      "Other / Non-Disclosed     15\n",
      "Name: Purchase ID, dtype: int64\n"
     ]
    }
   ],
   "source": [
    "purchase_count_gen = gender_group_purchasing['Purchase ID'].count()\n",
    "print(purchase_count_gen)"
   ]
  },
  {
   "cell_type": "code",
   "execution_count": 440,
   "metadata": {},
   "outputs": [
    {
     "data": {
      "text/plain": [
       "Gender\n",
       "Female                   3.20\n",
       "Male                     3.02\n",
       "Other / Non-Disclosed    3.35\n",
       "Name: Price, dtype: float64"
      ]
     },
     "execution_count": 440,
     "metadata": {},
     "output_type": "execute_result"
    }
   ],
   "source": [
    "avg_purchase = gender_group_purchasing['Price'].mean()\n",
    "avg_purchases_gen = np.around(avg_purchase, 2)\n",
    "avg_purchases_gen"
   ]
  },
  {
   "cell_type": "code",
   "execution_count": 441,
   "metadata": {},
   "outputs": [
    {
     "data": {
      "text/plain": [
       "Gender\n",
       "Female                    361.94\n",
       "Male                     1967.64\n",
       "Other / Non-Disclosed      50.19\n",
       "Name: Price, dtype: float64"
      ]
     },
     "execution_count": 441,
     "metadata": {},
     "output_type": "execute_result"
    }
   ],
   "source": [
    "purchase_total_gen = gender_group_purchasing['Price'].sum()\n",
    "purchase_total_gen"
   ]
  },
  {
   "cell_type": "code",
   "execution_count": 442,
   "metadata": {},
   "outputs": [
    {
     "data": {
      "text/plain": [
       "Gender\n",
       "Female                   4.47\n",
       "Male                     4.07\n",
       "Other / Non-Disclosed    4.56\n",
       "dtype: float64"
      ]
     },
     "execution_count": 442,
     "metadata": {},
     "output_type": "execute_result"
    }
   ],
   "source": [
    "purchase_perperson = purchase_total/gender_group_purchasing['SN'].nunique()\n",
    "purchase_perpersons_gen = np.around(purchase_perperson, 2)\n",
    "purchase_perpersons_gen"
   ]
  },
  {
   "cell_type": "code",
   "execution_count": 443,
   "metadata": {},
   "outputs": [
    {
     "name": "stdout",
     "output_type": "stream",
     "text": [
      "                       Purchase Count  Avg Purchase  Avg Purchase (per person)\n",
      "Gender                                                                        \n",
      "Female                            113          3.20                       4.47\n",
      "Male                              652          3.02                       4.07\n",
      "Other / Non-Disclosed              15          3.35                       4.56\n"
     ]
    },
    {
     "data": {
      "text/html": [
       "<div>\n",
       "<style scoped>\n",
       "    .dataframe tbody tr th:only-of-type {\n",
       "        vertical-align: middle;\n",
       "    }\n",
       "\n",
       "    .dataframe tbody tr th {\n",
       "        vertical-align: top;\n",
       "    }\n",
       "\n",
       "    .dataframe thead th {\n",
       "        text-align: right;\n",
       "    }\n",
       "</style>\n",
       "<table border=\"1\" class=\"dataframe\">\n",
       "  <thead>\n",
       "    <tr style=\"text-align: right;\">\n",
       "      <th></th>\n",
       "      <th>Purchase Count</th>\n",
       "      <th>Avg Purchase</th>\n",
       "      <th>Avg Purchase (per person)</th>\n",
       "    </tr>\n",
       "    <tr>\n",
       "      <th>Gender</th>\n",
       "      <th></th>\n",
       "      <th></th>\n",
       "      <th></th>\n",
       "    </tr>\n",
       "  </thead>\n",
       "  <tbody>\n",
       "    <tr>\n",
       "      <td>Female</td>\n",
       "      <td>113</td>\n",
       "      <td>3.20</td>\n",
       "      <td>4.47</td>\n",
       "    </tr>\n",
       "    <tr>\n",
       "      <td>Male</td>\n",
       "      <td>652</td>\n",
       "      <td>3.02</td>\n",
       "      <td>4.07</td>\n",
       "    </tr>\n",
       "    <tr>\n",
       "      <td>Other / Non-Disclosed</td>\n",
       "      <td>15</td>\n",
       "      <td>3.35</td>\n",
       "      <td>4.56</td>\n",
       "    </tr>\n",
       "  </tbody>\n",
       "</table>\n",
       "</div>"
      ],
      "text/plain": [
       "                       Purchase Count  Avg Purchase  Avg Purchase (per person)\n",
       "Gender                                                                        \n",
       "Female                            113          3.20                       4.47\n",
       "Male                              652          3.02                       4.07\n",
       "Other / Non-Disclosed              15          3.35                       4.56"
      ]
     },
     "execution_count": 443,
     "metadata": {},
     "output_type": "execute_result"
    }
   ],
   "source": [
    "gender_purchase_summary = pd.DataFrame({'Purchase Count': purchase_count_gen, 'Avg Purchase': avg_purchases_gen, 'Avg Purchase (per person)': purchase_perpersons_gen})\n",
    "print(gender_purchase_summary)\n",
    "gender_purchase_summary.head()"
   ]
  },
  {
   "cell_type": "markdown",
   "metadata": {},
   "source": [
    "## Age Demographics"
   ]
  },
  {
   "cell_type": "markdown",
   "metadata": {},
   "source": [
    "* Establish bins for ages\n",
    "\n",
    "\n",
    "* Categorize the existing players using the age bins. Hint: use pd.cut()\n",
    "\n",
    "\n",
    "* Calculate the numbers and percentages by age group\n",
    "\n",
    "\n",
    "* Create a summary data frame to hold the results\n",
    "\n",
    "\n",
    "* Optional: round the percentage column to two decimal points\n",
    "\n",
    "\n",
    "* Display Age Demographics Table\n"
   ]
  },
  {
   "cell_type": "code",
   "execution_count": 444,
   "metadata": {},
   "outputs": [
    {
     "name": "stdout",
     "output_type": "stream",
     "text": [
      "     Purchase ID             SN  Age  Gender  Item ID  \\\n",
      "0              0        Lisim78   20    Male      108   \n",
      "1              1    Lisovynya38   40    Male      143   \n",
      "2              2     Ithergue48   24    Male       92   \n",
      "3              3  Chamassasya86   24    Male      100   \n",
      "4              4      Iskosia90   23    Male      131   \n",
      "..           ...            ...  ...     ...      ...   \n",
      "775          775     Aethedru70   21  Female       60   \n",
      "776          776         Iral74   21    Male      164   \n",
      "777          777     Yathecal72   20    Male       67   \n",
      "778          778        Sisur91    7    Male      101   \n",
      "779          779      Ennrian78   24    Male       50   \n",
      "\n",
      "                                     Item Name  Price Age Group  \n",
      "0    Extraction, Quickblade Of Trembling Hands   3.53     15-19  \n",
      "1                            Frenzied Scimitar   1.56     35-39  \n",
      "2                                 Final Critic   4.88     20-24  \n",
      "3                                  Blindscythe   3.27     20-24  \n",
      "4                                         Fury   1.44     20-24  \n",
      "..                                         ...    ...       ...  \n",
      "775                                       Wolf   3.54     20-24  \n",
      "776                           Exiled Doomblade   1.63     20-24  \n",
      "777      Celeste, Incarnation of the Corrupted   3.46     15-19  \n",
      "778                               Final Critic   4.19       <10  \n",
      "779                                       Dawn   4.60     20-24  \n",
      "\n",
      "[780 rows x 8 columns]\n"
     ]
    },
    {
     "data": {
      "text/html": [
       "<div>\n",
       "<style scoped>\n",
       "    .dataframe tbody tr th:only-of-type {\n",
       "        vertical-align: middle;\n",
       "    }\n",
       "\n",
       "    .dataframe tbody tr th {\n",
       "        vertical-align: top;\n",
       "    }\n",
       "\n",
       "    .dataframe thead th {\n",
       "        text-align: right;\n",
       "    }\n",
       "</style>\n",
       "<table border=\"1\" class=\"dataframe\">\n",
       "  <thead>\n",
       "    <tr style=\"text-align: right;\">\n",
       "      <th></th>\n",
       "      <th>Purchase ID</th>\n",
       "      <th>SN</th>\n",
       "      <th>Age</th>\n",
       "      <th>Gender</th>\n",
       "      <th>Item ID</th>\n",
       "      <th>Item Name</th>\n",
       "      <th>Price</th>\n",
       "      <th>Age Group</th>\n",
       "    </tr>\n",
       "  </thead>\n",
       "  <tbody>\n",
       "    <tr>\n",
       "      <td>0</td>\n",
       "      <td>0</td>\n",
       "      <td>Lisim78</td>\n",
       "      <td>20</td>\n",
       "      <td>Male</td>\n",
       "      <td>108</td>\n",
       "      <td>Extraction, Quickblade Of Trembling Hands</td>\n",
       "      <td>3.53</td>\n",
       "      <td>15-19</td>\n",
       "    </tr>\n",
       "    <tr>\n",
       "      <td>1</td>\n",
       "      <td>1</td>\n",
       "      <td>Lisovynya38</td>\n",
       "      <td>40</td>\n",
       "      <td>Male</td>\n",
       "      <td>143</td>\n",
       "      <td>Frenzied Scimitar</td>\n",
       "      <td>1.56</td>\n",
       "      <td>35-39</td>\n",
       "    </tr>\n",
       "    <tr>\n",
       "      <td>2</td>\n",
       "      <td>2</td>\n",
       "      <td>Ithergue48</td>\n",
       "      <td>24</td>\n",
       "      <td>Male</td>\n",
       "      <td>92</td>\n",
       "      <td>Final Critic</td>\n",
       "      <td>4.88</td>\n",
       "      <td>20-24</td>\n",
       "    </tr>\n",
       "    <tr>\n",
       "      <td>3</td>\n",
       "      <td>3</td>\n",
       "      <td>Chamassasya86</td>\n",
       "      <td>24</td>\n",
       "      <td>Male</td>\n",
       "      <td>100</td>\n",
       "      <td>Blindscythe</td>\n",
       "      <td>3.27</td>\n",
       "      <td>20-24</td>\n",
       "    </tr>\n",
       "    <tr>\n",
       "      <td>4</td>\n",
       "      <td>4</td>\n",
       "      <td>Iskosia90</td>\n",
       "      <td>23</td>\n",
       "      <td>Male</td>\n",
       "      <td>131</td>\n",
       "      <td>Fury</td>\n",
       "      <td>1.44</td>\n",
       "      <td>20-24</td>\n",
       "    </tr>\n",
       "  </tbody>\n",
       "</table>\n",
       "</div>"
      ],
      "text/plain": [
       "   Purchase ID             SN  Age Gender  Item ID  \\\n",
       "0            0        Lisim78   20   Male      108   \n",
       "1            1    Lisovynya38   40   Male      143   \n",
       "2            2     Ithergue48   24   Male       92   \n",
       "3            3  Chamassasya86   24   Male      100   \n",
       "4            4      Iskosia90   23   Male      131   \n",
       "\n",
       "                                   Item Name  Price Age Group  \n",
       "0  Extraction, Quickblade Of Trembling Hands   3.53     15-19  \n",
       "1                          Frenzied Scimitar   1.56     35-39  \n",
       "2                               Final Critic   4.88     20-24  \n",
       "3                                Blindscythe   3.27     20-24  \n",
       "4                                       Fury   1.44     20-24  "
      ]
     },
     "execution_count": 444,
     "metadata": {},
     "output_type": "execute_result"
    }
   ],
   "source": [
    "purchase_data['Age Group'] = pd.cut(purchase_data['Age'], bins = [0, 10, 15, 20, 25, 30, 35, 40, 200], labels = ['<10', '10-14', '15-19', '20-24', '25-29', '30-34', '35-39', '40+'])\n",
    "print(purchase_data)\n",
    "purchase_data.head()"
   ]
  },
  {
   "cell_type": "code",
   "execution_count": 445,
   "metadata": {},
   "outputs": [
    {
     "name": "stdout",
     "output_type": "stream",
     "text": [
      "<pandas.core.groupby.generic.DataFrameGroupBy object at 0x7f9fdaef2690>\n"
     ]
    },
    {
     "data": {
      "text/html": [
       "<div>\n",
       "<style scoped>\n",
       "    .dataframe tbody tr th:only-of-type {\n",
       "        vertical-align: middle;\n",
       "    }\n",
       "\n",
       "    .dataframe tbody tr th {\n",
       "        vertical-align: top;\n",
       "    }\n",
       "\n",
       "    .dataframe thead th {\n",
       "        text-align: right;\n",
       "    }\n",
       "</style>\n",
       "<table border=\"1\" class=\"dataframe\">\n",
       "  <thead>\n",
       "    <tr style=\"text-align: right;\">\n",
       "      <th></th>\n",
       "      <th>Purchase ID</th>\n",
       "      <th>SN</th>\n",
       "      <th>Age</th>\n",
       "      <th>Gender</th>\n",
       "      <th>Item ID</th>\n",
       "      <th>Item Name</th>\n",
       "      <th>Price</th>\n",
       "    </tr>\n",
       "    <tr>\n",
       "      <th>Age Group</th>\n",
       "      <th></th>\n",
       "      <th></th>\n",
       "      <th></th>\n",
       "      <th></th>\n",
       "      <th></th>\n",
       "      <th></th>\n",
       "      <th></th>\n",
       "    </tr>\n",
       "  </thead>\n",
       "  <tbody>\n",
       "    <tr>\n",
       "      <td>&lt;10</td>\n",
       "      <td>32</td>\n",
       "      <td>32</td>\n",
       "      <td>32</td>\n",
       "      <td>32</td>\n",
       "      <td>32</td>\n",
       "      <td>32</td>\n",
       "      <td>32</td>\n",
       "    </tr>\n",
       "    <tr>\n",
       "      <td>10-14</td>\n",
       "      <td>54</td>\n",
       "      <td>54</td>\n",
       "      <td>54</td>\n",
       "      <td>54</td>\n",
       "      <td>54</td>\n",
       "      <td>54</td>\n",
       "      <td>54</td>\n",
       "    </tr>\n",
       "    <tr>\n",
       "      <td>15-19</td>\n",
       "      <td>200</td>\n",
       "      <td>200</td>\n",
       "      <td>200</td>\n",
       "      <td>200</td>\n",
       "      <td>200</td>\n",
       "      <td>200</td>\n",
       "      <td>200</td>\n",
       "    </tr>\n",
       "    <tr>\n",
       "      <td>20-24</td>\n",
       "      <td>325</td>\n",
       "      <td>325</td>\n",
       "      <td>325</td>\n",
       "      <td>325</td>\n",
       "      <td>325</td>\n",
       "      <td>325</td>\n",
       "      <td>325</td>\n",
       "    </tr>\n",
       "    <tr>\n",
       "      <td>25-29</td>\n",
       "      <td>77</td>\n",
       "      <td>77</td>\n",
       "      <td>77</td>\n",
       "      <td>77</td>\n",
       "      <td>77</td>\n",
       "      <td>77</td>\n",
       "      <td>77</td>\n",
       "    </tr>\n",
       "  </tbody>\n",
       "</table>\n",
       "</div>"
      ],
      "text/plain": [
       "           Purchase ID   SN  Age  Gender  Item ID  Item Name  Price\n",
       "Age Group                                                          \n",
       "<10                 32   32   32      32       32         32     32\n",
       "10-14               54   54   54      54       54         54     54\n",
       "15-19              200  200  200     200      200        200    200\n",
       "20-24              325  325  325     325      325        325    325\n",
       "25-29               77   77   77      77       77         77     77"
      ]
     },
     "execution_count": 445,
     "metadata": {},
     "output_type": "execute_result"
    }
   ],
   "source": [
    "purchase_ages = purchase_data.groupby(['Age Group'])\n",
    "print(purchase_ages)\n",
    "purchase_ages.count().head()"
   ]
  },
  {
   "cell_type": "code",
   "execution_count": 446,
   "metadata": {},
   "outputs": [
    {
     "data": {
      "text/plain": [
       "Age Group\n",
       "<10       24\n",
       "10-14     41\n",
       "15-19    150\n",
       "20-24    232\n",
       "25-29     59\n",
       "30-34     37\n",
       "35-39     26\n",
       "40+        7\n",
       "Name: SN, dtype: int64"
      ]
     },
     "execution_count": 446,
     "metadata": {},
     "output_type": "execute_result"
    }
   ],
   "source": [
    "age_groups = purchase_ages['SN'].nunique()\n",
    "age_groups"
   ]
  },
  {
   "cell_type": "code",
   "execution_count": 447,
   "metadata": {},
   "outputs": [
    {
     "data": {
      "text/plain": [
       "576"
      ]
     },
     "execution_count": 447,
     "metadata": {},
     "output_type": "execute_result"
    }
   ],
   "source": [
    "age_total = purchase_ages['SN'].nunique().sum()\n",
    "age_total"
   ]
  },
  {
   "cell_type": "code",
   "execution_count": 448,
   "metadata": {},
   "outputs": [
    {
     "data": {
      "text/plain": [
       "array([ 4.17,  7.12, 26.04, 40.28, 10.24,  6.42,  4.51,  1.22])"
      ]
     },
     "execution_count": 448,
     "metadata": {},
     "output_type": "execute_result"
    }
   ],
   "source": [
    "age_percetange = np.array((age_groups/age_total) * 100)\n",
    "age_percetanges = np.around(age_percetange, 2)\n",
    "age_percetanges\n",
    "                                                     "
   ]
  },
  {
   "cell_type": "code",
   "execution_count": 449,
   "metadata": {},
   "outputs": [
    {
     "name": "stdout",
     "output_type": "stream",
     "text": [
      "           Count  Percentage\n",
      "Age Group                   \n",
      "<10           24        4.17\n",
      "10-14         41        7.12\n",
      "15-19        150       26.04\n",
      "20-24        232       40.28\n",
      "25-29         59       10.24\n",
      "30-34         37        6.42\n",
      "35-39         26        4.51\n",
      "40+            7        1.22\n"
     ]
    },
    {
     "data": {
      "text/html": [
       "<div>\n",
       "<style scoped>\n",
       "    .dataframe tbody tr th:only-of-type {\n",
       "        vertical-align: middle;\n",
       "    }\n",
       "\n",
       "    .dataframe tbody tr th {\n",
       "        vertical-align: top;\n",
       "    }\n",
       "\n",
       "    .dataframe thead th {\n",
       "        text-align: right;\n",
       "    }\n",
       "</style>\n",
       "<table border=\"1\" class=\"dataframe\">\n",
       "  <thead>\n",
       "    <tr style=\"text-align: right;\">\n",
       "      <th></th>\n",
       "      <th>Count</th>\n",
       "      <th>Percentage</th>\n",
       "    </tr>\n",
       "    <tr>\n",
       "      <th>Age Group</th>\n",
       "      <th></th>\n",
       "      <th></th>\n",
       "    </tr>\n",
       "  </thead>\n",
       "  <tbody>\n",
       "    <tr>\n",
       "      <td>&lt;10</td>\n",
       "      <td>24</td>\n",
       "      <td>4.17</td>\n",
       "    </tr>\n",
       "    <tr>\n",
       "      <td>10-14</td>\n",
       "      <td>41</td>\n",
       "      <td>7.12</td>\n",
       "    </tr>\n",
       "    <tr>\n",
       "      <td>15-19</td>\n",
       "      <td>150</td>\n",
       "      <td>26.04</td>\n",
       "    </tr>\n",
       "    <tr>\n",
       "      <td>20-24</td>\n",
       "      <td>232</td>\n",
       "      <td>40.28</td>\n",
       "    </tr>\n",
       "    <tr>\n",
       "      <td>25-29</td>\n",
       "      <td>59</td>\n",
       "      <td>10.24</td>\n",
       "    </tr>\n",
       "  </tbody>\n",
       "</table>\n",
       "</div>"
      ],
      "text/plain": [
       "           Count  Percentage\n",
       "Age Group                   \n",
       "<10           24        4.17\n",
       "10-14         41        7.12\n",
       "15-19        150       26.04\n",
       "20-24        232       40.28\n",
       "25-29         59       10.24"
      ]
     },
     "execution_count": 449,
     "metadata": {},
     "output_type": "execute_result"
    }
   ],
   "source": [
    "age_summary = pd.DataFrame({'Count': age_groups, 'Percentage': age_percetanges})\n",
    "print(age_summary)\n",
    "age_summary.head()"
   ]
  },
  {
   "cell_type": "markdown",
   "metadata": {},
   "source": [
    "## Purchasing Analysis (Age)"
   ]
  },
  {
   "cell_type": "markdown",
   "metadata": {},
   "source": [
    "* Bin the purchase_data data frame by age\n",
    "\n",
    "\n",
    "* Run basic calculations to obtain purchase count, avg. purchase price, avg. purchase total per person etc. in the table below\n",
    "\n",
    "\n",
    "* Create a summary data frame to hold the results\n",
    "\n",
    "\n",
    "* Optional: give the displayed data cleaner formatting\n",
    "\n",
    "\n",
    "* Display the summary data frame"
   ]
  },
  {
   "cell_type": "code",
   "execution_count": 450,
   "metadata": {},
   "outputs": [
    {
     "data": {
      "text/plain": [
       "Age Group\n",
       "<10       32\n",
       "10-14     54\n",
       "15-19    200\n",
       "20-24    325\n",
       "25-29     77\n",
       "30-34     52\n",
       "35-39     33\n",
       "40+        7\n",
       "Name: Purchase ID, dtype: int64"
      ]
     },
     "execution_count": 450,
     "metadata": {},
     "output_type": "execute_result"
    }
   ],
   "source": [
    "purchase_count_age = purchase_ages['Purchase ID'].nunique()\n",
    "purchase_count_age"
   ]
  },
  {
   "cell_type": "code",
   "execution_count": 451,
   "metadata": {},
   "outputs": [
    {
     "data": {
      "text/plain": [
       "Age Group\n",
       "<10      $3.40\n",
       "10-14    $2.90\n",
       "15-19    $3.11\n",
       "20-24    $3.02\n",
       "25-29    $2.88\n",
       "30-34    $2.99\n",
       "35-39    $3.40\n",
       "40+      $3.08\n",
       "Name: Price, dtype: object"
      ]
     },
     "execution_count": 451,
     "metadata": {},
     "output_type": "execute_result"
    }
   ],
   "source": [
    "avg_price_age = purchase_ages['Price'].mean()\n",
    "avg_price_ages = np.around(avg_price_age, 2).map('${:,.2f}'.format)\n",
    "avg_price_ages"
   ]
  },
  {
   "cell_type": "code",
   "execution_count": 452,
   "metadata": {},
   "outputs": [
    {
     "data": {
      "text/plain": [
       "Age Group\n",
       "<10      $13.91\n",
       "10-14     $8.24\n",
       "15-19     $2.22\n",
       "20-24     $1.37\n",
       "25-29     $5.78\n",
       "30-34     $8.56\n",
       "35-39    $13.48\n",
       "40+      $63.57\n",
       "Name: Purchase ID, dtype: object"
      ]
     },
     "execution_count": 452,
     "metadata": {},
     "output_type": "execute_result"
    }
   ],
   "source": [
    "avg_purchase_total = purchase_ages['Price'].nunique().sum()/purchase_count_age\n",
    "avg_purchase_totals = np.around(avg_purchase_total, 2).map('${:,.2f}'.format)\n",
    "avg_purchase_totals"
   ]
  },
  {
   "cell_type": "code",
   "execution_count": 453,
   "metadata": {},
   "outputs": [
    {
     "name": "stdout",
     "output_type": "stream",
     "text": [
      "           Count Avg Price Avg Purchase(per person)\n",
      "Age Group                                          \n",
      "<10           32     $3.40                   $13.91\n",
      "10-14         54     $2.90                    $8.24\n",
      "15-19        200     $3.11                    $2.22\n",
      "20-24        325     $3.02                    $1.37\n",
      "25-29         77     $2.88                    $5.78\n",
      "30-34         52     $2.99                    $8.56\n",
      "35-39         33     $3.40                   $13.48\n",
      "40+            7     $3.08                   $63.57\n"
     ]
    },
    {
     "data": {
      "text/html": [
       "<div>\n",
       "<style scoped>\n",
       "    .dataframe tbody tr th:only-of-type {\n",
       "        vertical-align: middle;\n",
       "    }\n",
       "\n",
       "    .dataframe tbody tr th {\n",
       "        vertical-align: top;\n",
       "    }\n",
       "\n",
       "    .dataframe thead th {\n",
       "        text-align: right;\n",
       "    }\n",
       "</style>\n",
       "<table border=\"1\" class=\"dataframe\">\n",
       "  <thead>\n",
       "    <tr style=\"text-align: right;\">\n",
       "      <th></th>\n",
       "      <th>Count</th>\n",
       "      <th>Avg Price</th>\n",
       "      <th>Avg Purchase(per person)</th>\n",
       "    </tr>\n",
       "    <tr>\n",
       "      <th>Age Group</th>\n",
       "      <th></th>\n",
       "      <th></th>\n",
       "      <th></th>\n",
       "    </tr>\n",
       "  </thead>\n",
       "  <tbody>\n",
       "    <tr>\n",
       "      <td>&lt;10</td>\n",
       "      <td>32</td>\n",
       "      <td>$3.40</td>\n",
       "      <td>$13.91</td>\n",
       "    </tr>\n",
       "    <tr>\n",
       "      <td>10-14</td>\n",
       "      <td>54</td>\n",
       "      <td>$2.90</td>\n",
       "      <td>$8.24</td>\n",
       "    </tr>\n",
       "    <tr>\n",
       "      <td>15-19</td>\n",
       "      <td>200</td>\n",
       "      <td>$3.11</td>\n",
       "      <td>$2.22</td>\n",
       "    </tr>\n",
       "    <tr>\n",
       "      <td>20-24</td>\n",
       "      <td>325</td>\n",
       "      <td>$3.02</td>\n",
       "      <td>$1.37</td>\n",
       "    </tr>\n",
       "    <tr>\n",
       "      <td>25-29</td>\n",
       "      <td>77</td>\n",
       "      <td>$2.88</td>\n",
       "      <td>$5.78</td>\n",
       "    </tr>\n",
       "  </tbody>\n",
       "</table>\n",
       "</div>"
      ],
      "text/plain": [
       "           Count Avg Price Avg Purchase(per person)\n",
       "Age Group                                          \n",
       "<10           32     $3.40                   $13.91\n",
       "10-14         54     $2.90                    $8.24\n",
       "15-19        200     $3.11                    $2.22\n",
       "20-24        325     $3.02                    $1.37\n",
       "25-29         77     $2.88                    $5.78"
      ]
     },
     "execution_count": 453,
     "metadata": {},
     "output_type": "execute_result"
    }
   ],
   "source": [
    "age_purchase_summary = pd.DataFrame({'Count': purchase_count_age, 'Avg Price': avg_price_ages, 'Avg Purchase(per person)': avg_purchase_totals})\n",
    "print(age_purchase_summary)\n",
    "age_purchase_summary.head()"
   ]
  },
  {
   "cell_type": "markdown",
   "metadata": {},
   "source": [
    "## Top Spenders"
   ]
  },
  {
   "cell_type": "markdown",
   "metadata": {},
   "source": [
    "* Run basic calculations to obtain the results in the table below\n",
    "\n",
    "\n",
    "* Create a summary data frame to hold the results\n",
    "\n",
    "\n",
    "* Sort the total purchase value column in descending order\n",
    "\n",
    "\n",
    "* Optional: give the displayed data cleaner formatting\n",
    "\n",
    "\n",
    "* Display a preview of the summary data frame\n",
    "\n"
   ]
  },
  {
   "cell_type": "code",
   "execution_count": 454,
   "metadata": {},
   "outputs": [
    {
     "name": "stdout",
     "output_type": "stream",
     "text": [
      "<pandas.core.groupby.generic.DataFrameGroupBy object at 0x7f9fdaf10f50>\n"
     ]
    },
    {
     "data": {
      "text/html": [
       "<div>\n",
       "<style scoped>\n",
       "    .dataframe tbody tr th:only-of-type {\n",
       "        vertical-align: middle;\n",
       "    }\n",
       "\n",
       "    .dataframe tbody tr th {\n",
       "        vertical-align: top;\n",
       "    }\n",
       "\n",
       "    .dataframe thead th {\n",
       "        text-align: right;\n",
       "    }\n",
       "</style>\n",
       "<table border=\"1\" class=\"dataframe\">\n",
       "  <thead>\n",
       "    <tr style=\"text-align: right;\">\n",
       "      <th></th>\n",
       "      <th>Purchase ID</th>\n",
       "      <th>Age</th>\n",
       "      <th>Gender</th>\n",
       "      <th>Item ID</th>\n",
       "      <th>Item Name</th>\n",
       "      <th>Price</th>\n",
       "      <th>Age Group</th>\n",
       "    </tr>\n",
       "    <tr>\n",
       "      <th>SN</th>\n",
       "      <th></th>\n",
       "      <th></th>\n",
       "      <th></th>\n",
       "      <th></th>\n",
       "      <th></th>\n",
       "      <th></th>\n",
       "      <th></th>\n",
       "    </tr>\n",
       "  </thead>\n",
       "  <tbody>\n",
       "    <tr>\n",
       "      <td>Adairialis76</td>\n",
       "      <td>1</td>\n",
       "      <td>1</td>\n",
       "      <td>1</td>\n",
       "      <td>1</td>\n",
       "      <td>1</td>\n",
       "      <td>1</td>\n",
       "      <td>1</td>\n",
       "    </tr>\n",
       "    <tr>\n",
       "      <td>Adastirin33</td>\n",
       "      <td>1</td>\n",
       "      <td>1</td>\n",
       "      <td>1</td>\n",
       "      <td>1</td>\n",
       "      <td>1</td>\n",
       "      <td>1</td>\n",
       "      <td>1</td>\n",
       "    </tr>\n",
       "    <tr>\n",
       "      <td>Aeda94</td>\n",
       "      <td>1</td>\n",
       "      <td>1</td>\n",
       "      <td>1</td>\n",
       "      <td>1</td>\n",
       "      <td>1</td>\n",
       "      <td>1</td>\n",
       "      <td>1</td>\n",
       "    </tr>\n",
       "    <tr>\n",
       "      <td>Aela59</td>\n",
       "      <td>1</td>\n",
       "      <td>1</td>\n",
       "      <td>1</td>\n",
       "      <td>1</td>\n",
       "      <td>1</td>\n",
       "      <td>1</td>\n",
       "      <td>1</td>\n",
       "    </tr>\n",
       "    <tr>\n",
       "      <td>Aelaria33</td>\n",
       "      <td>1</td>\n",
       "      <td>1</td>\n",
       "      <td>1</td>\n",
       "      <td>1</td>\n",
       "      <td>1</td>\n",
       "      <td>1</td>\n",
       "      <td>1</td>\n",
       "    </tr>\n",
       "  </tbody>\n",
       "</table>\n",
       "</div>"
      ],
      "text/plain": [
       "              Purchase ID  Age  Gender  Item ID  Item Name  Price  Age Group\n",
       "SN                                                                          \n",
       "Adairialis76            1    1       1        1          1      1          1\n",
       "Adastirin33             1    1       1        1          1      1          1\n",
       "Aeda94                  1    1       1        1          1      1          1\n",
       "Aela59                  1    1       1        1          1      1          1\n",
       "Aelaria33               1    1       1        1          1      1          1"
      ]
     },
     "execution_count": 454,
     "metadata": {},
     "output_type": "execute_result"
    }
   ],
   "source": [
    "top_spenders = purchase_data.groupby(['SN'])\n",
    "print(top_spenders)\n",
    "top_spenders.count().head()"
   ]
  },
  {
   "cell_type": "code",
   "execution_count": 455,
   "metadata": {},
   "outputs": [
    {
     "data": {
      "text/plain": [
       "SN\n",
       "Adairialis76     1\n",
       "Adastirin33      1\n",
       "Aeda94           1\n",
       "Aela59           1\n",
       "Aelaria33        1\n",
       "                ..\n",
       "Yathecal82       3\n",
       "Yathedeu43       2\n",
       "Yoishirrala98    1\n",
       "Zhisrisu83       2\n",
       "Zontibe81        3\n",
       "Name: Purchase ID, Length: 576, dtype: int64"
      ]
     },
     "execution_count": 455,
     "metadata": {},
     "output_type": "execute_result"
    }
   ],
   "source": [
    "purchase_count = top_spenders['Purchase ID'].nunique()\n",
    "purchase_count"
   ]
  },
  {
   "cell_type": "code",
   "execution_count": 456,
   "metadata": {},
   "outputs": [
    {
     "data": {
      "text/plain": [
       "SN\n",
       "Adairialis76     $2.28\n",
       "Adastirin33      $4.48\n",
       "Aeda94           $4.91\n",
       "Aela59           $4.32\n",
       "Aelaria33        $1.79\n",
       "                 ...  \n",
       "Yathecal82       $6.22\n",
       "Yathedeu43       $6.02\n",
       "Yoishirrala98    $4.58\n",
       "Zhisrisu83       $7.89\n",
       "Zontibe81        $8.03\n",
       "Name: Price, Length: 576, dtype: object"
      ]
     },
     "execution_count": 456,
     "metadata": {},
     "output_type": "execute_result"
    }
   ],
   "source": [
    "total_purchase = top_spenders['Price'].sum().map('${:,.2f}'.format)\n",
    "total_purchase"
   ]
  },
  {
   "cell_type": "code",
   "execution_count": 457,
   "metadata": {},
   "outputs": [
    {
     "data": {
      "text/plain": [
       "SN\n",
       "Adairialis76     $2.28\n",
       "Adastirin33      $4.48\n",
       "Aeda94           $4.91\n",
       "Aela59           $4.32\n",
       "Aelaria33        $1.79\n",
       "                 ...  \n",
       "Yathecal82       $2.07\n",
       "Yathedeu43       $3.01\n",
       "Yoishirrala98    $4.58\n",
       "Zhisrisu83       $3.94\n",
       "Zontibe81        $2.68\n",
       "Name: Price, Length: 576, dtype: object"
      ]
     },
     "execution_count": 457,
     "metadata": {},
     "output_type": "execute_result"
    }
   ],
   "source": [
    "avg_price = top_spenders['Price'].mean().map('${:,.2f}'.format)\n",
    "avg_price"
   ]
  },
  {
   "cell_type": "code",
   "execution_count": 458,
   "metadata": {},
   "outputs": [
    {
     "name": "stdout",
     "output_type": "stream",
     "text": [
      "               Purchase Count Average Purchase Price Total Purchase Value\n",
      "SN                                                                       \n",
      "Adairialis76                1                  $2.28                $2.28\n",
      "Adastirin33                 1                  $4.48                $4.48\n",
      "Aeda94                      1                  $4.91                $4.91\n",
      "Aela59                      1                  $4.32                $4.32\n",
      "Aelaria33                   1                  $1.79                $1.79\n",
      "...                       ...                    ...                  ...\n",
      "Yathecal82                  3                  $2.07                $6.22\n",
      "Yathedeu43                  2                  $3.01                $6.02\n",
      "Yoishirrala98               1                  $4.58                $4.58\n",
      "Zhisrisu83                  2                  $3.94                $7.89\n",
      "Zontibe81                   3                  $2.68                $8.03\n",
      "\n",
      "[576 rows x 3 columns]\n"
     ]
    },
    {
     "data": {
      "text/html": [
       "<div>\n",
       "<style scoped>\n",
       "    .dataframe tbody tr th:only-of-type {\n",
       "        vertical-align: middle;\n",
       "    }\n",
       "\n",
       "    .dataframe tbody tr th {\n",
       "        vertical-align: top;\n",
       "    }\n",
       "\n",
       "    .dataframe thead th {\n",
       "        text-align: right;\n",
       "    }\n",
       "</style>\n",
       "<table border=\"1\" class=\"dataframe\">\n",
       "  <thead>\n",
       "    <tr style=\"text-align: right;\">\n",
       "      <th></th>\n",
       "      <th>Purchase Count</th>\n",
       "      <th>Average Purchase Price</th>\n",
       "      <th>Total Purchase Value</th>\n",
       "    </tr>\n",
       "    <tr>\n",
       "      <th>SN</th>\n",
       "      <th></th>\n",
       "      <th></th>\n",
       "      <th></th>\n",
       "    </tr>\n",
       "  </thead>\n",
       "  <tbody>\n",
       "    <tr>\n",
       "      <td>Adairialis76</td>\n",
       "      <td>1</td>\n",
       "      <td>$2.28</td>\n",
       "      <td>$2.28</td>\n",
       "    </tr>\n",
       "    <tr>\n",
       "      <td>Adastirin33</td>\n",
       "      <td>1</td>\n",
       "      <td>$4.48</td>\n",
       "      <td>$4.48</td>\n",
       "    </tr>\n",
       "    <tr>\n",
       "      <td>Aeda94</td>\n",
       "      <td>1</td>\n",
       "      <td>$4.91</td>\n",
       "      <td>$4.91</td>\n",
       "    </tr>\n",
       "    <tr>\n",
       "      <td>Aela59</td>\n",
       "      <td>1</td>\n",
       "      <td>$4.32</td>\n",
       "      <td>$4.32</td>\n",
       "    </tr>\n",
       "    <tr>\n",
       "      <td>Aelaria33</td>\n",
       "      <td>1</td>\n",
       "      <td>$1.79</td>\n",
       "      <td>$1.79</td>\n",
       "    </tr>\n",
       "    <tr>\n",
       "      <td>...</td>\n",
       "      <td>...</td>\n",
       "      <td>...</td>\n",
       "      <td>...</td>\n",
       "    </tr>\n",
       "    <tr>\n",
       "      <td>Frichynde86</td>\n",
       "      <td>1</td>\n",
       "      <td>$1.63</td>\n",
       "      <td>$1.63</td>\n",
       "    </tr>\n",
       "    <tr>\n",
       "      <td>Hada39</td>\n",
       "      <td>3</td>\n",
       "      <td>$2.86</td>\n",
       "      <td>$8.57</td>\n",
       "    </tr>\n",
       "    <tr>\n",
       "      <td>Haedairiadru51</td>\n",
       "      <td>1</td>\n",
       "      <td>$3.09</td>\n",
       "      <td>$3.09</td>\n",
       "    </tr>\n",
       "    <tr>\n",
       "      <td>Haeladil46</td>\n",
       "      <td>1</td>\n",
       "      <td>$3.81</td>\n",
       "      <td>$3.81</td>\n",
       "    </tr>\n",
       "    <tr>\n",
       "      <td>Haellysu29</td>\n",
       "      <td>1</td>\n",
       "      <td>$3.77</td>\n",
       "      <td>$3.77</td>\n",
       "    </tr>\n",
       "  </tbody>\n",
       "</table>\n",
       "<p>200 rows × 3 columns</p>\n",
       "</div>"
      ],
      "text/plain": [
       "                Purchase Count Average Purchase Price Total Purchase Value\n",
       "SN                                                                        \n",
       "Adairialis76                 1                  $2.28                $2.28\n",
       "Adastirin33                  1                  $4.48                $4.48\n",
       "Aeda94                       1                  $4.91                $4.91\n",
       "Aela59                       1                  $4.32                $4.32\n",
       "Aelaria33                    1                  $1.79                $1.79\n",
       "...                        ...                    ...                  ...\n",
       "Frichynde86                  1                  $1.63                $1.63\n",
       "Hada39                       3                  $2.86                $8.57\n",
       "Haedairiadru51               1                  $3.09                $3.09\n",
       "Haeladil46                   1                  $3.81                $3.81\n",
       "Haellysu29                   1                  $3.77                $3.77\n",
       "\n",
       "[200 rows x 3 columns]"
      ]
     },
     "execution_count": 458,
     "metadata": {},
     "output_type": "execute_result"
    }
   ],
   "source": [
    "top_players_df = pd.DataFrame({'Purchase Count': purchase_count, 'Average Purchase Price': avg_price, 'Total Purchase Value': total_purchase})\n",
    "print(top_players_df)\n",
    "top_players_df.head(200)"
   ]
  },
  {
   "cell_type": "code",
   "execution_count": 459,
   "metadata": {},
   "outputs": [
    {
     "name": "stdout",
     "output_type": "stream",
     "text": [
      "                Purchase Count Average Purchase Price Total Purchase Value\n",
      "SN                                                                        \n",
      "Aeralstical35                1                  $2.96                $2.96\n",
      "Aerithnucal56                1                  $4.40                $4.40\n",
      "Aerithnuphos61               1                  $4.91                $4.91\n",
      "Aidai73                      1                  $3.08                $3.08\n",
      "Aiduesu86                    1                  $4.48                $4.48\n",
      "...                        ...                    ...                  ...\n",
      "Yastyriaphos75               1                  $4.75                $4.75\n",
      "Yasur35                      1                  $4.48                $4.48\n",
      "Yasur85                      1                  $1.10                $1.10\n",
      "Yathecal72                   1                  $3.46                $3.46\n",
      "Yoishirrala98                1                  $4.58                $4.58\n",
      "\n",
      "[294 rows x 3 columns]\n"
     ]
    }
   ],
   "source": [
    "top_spending_dedupe = top_players_df[top_players_df.duplicated()]\n",
    "print(top_spending_dedupe)"
   ]
  },
  {
   "cell_type": "code",
   "execution_count": 461,
   "metadata": {},
   "outputs": [
    {
     "name": "stdout",
     "output_type": "stream",
     "text": [
      "              Purchase Count Average Purchase Price Total Purchase Value\n",
      "SN                                                                      \n",
      "Haillyrgue51               3                  $3.17                $9.50\n",
      "Phistym51                  2                  $4.75                $9.50\n",
      "Lamil79                    2                  $4.64                $9.29\n",
      "Aina42                     3                  $3.07                $9.22\n",
      "Saesrideu94                2                  $4.59                $9.18\n",
      "...                      ...                    ...                  ...\n",
      "Qilalista41                1                  $1.02                $1.02\n",
      "Ililsasya43                1                  $1.02                $1.02\n",
      "Aidai61                    1                  $1.01                $1.01\n",
      "Chanirra79                 1                  $1.01                $1.01\n",
      "Alo38                      1                  $1.00                $1.00\n",
      "\n",
      "[576 rows x 3 columns]\n"
     ]
    },
    {
     "data": {
      "text/html": [
       "<div>\n",
       "<style scoped>\n",
       "    .dataframe tbody tr th:only-of-type {\n",
       "        vertical-align: middle;\n",
       "    }\n",
       "\n",
       "    .dataframe tbody tr th {\n",
       "        vertical-align: top;\n",
       "    }\n",
       "\n",
       "    .dataframe thead th {\n",
       "        text-align: right;\n",
       "    }\n",
       "</style>\n",
       "<table border=\"1\" class=\"dataframe\">\n",
       "  <thead>\n",
       "    <tr style=\"text-align: right;\">\n",
       "      <th></th>\n",
       "      <th>Purchase Count</th>\n",
       "      <th>Average Purchase Price</th>\n",
       "      <th>Total Purchase Value</th>\n",
       "    </tr>\n",
       "    <tr>\n",
       "      <th>SN</th>\n",
       "      <th></th>\n",
       "      <th></th>\n",
       "      <th></th>\n",
       "    </tr>\n",
       "  </thead>\n",
       "  <tbody>\n",
       "    <tr>\n",
       "      <td>Haillyrgue51</td>\n",
       "      <td>3</td>\n",
       "      <td>$3.17</td>\n",
       "      <td>$9.50</td>\n",
       "    </tr>\n",
       "    <tr>\n",
       "      <td>Phistym51</td>\n",
       "      <td>2</td>\n",
       "      <td>$4.75</td>\n",
       "      <td>$9.50</td>\n",
       "    </tr>\n",
       "    <tr>\n",
       "      <td>Lamil79</td>\n",
       "      <td>2</td>\n",
       "      <td>$4.64</td>\n",
       "      <td>$9.29</td>\n",
       "    </tr>\n",
       "    <tr>\n",
       "      <td>Aina42</td>\n",
       "      <td>3</td>\n",
       "      <td>$3.07</td>\n",
       "      <td>$9.22</td>\n",
       "    </tr>\n",
       "    <tr>\n",
       "      <td>Saesrideu94</td>\n",
       "      <td>2</td>\n",
       "      <td>$4.59</td>\n",
       "      <td>$9.18</td>\n",
       "    </tr>\n",
       "  </tbody>\n",
       "</table>\n",
       "</div>"
      ],
      "text/plain": [
       "              Purchase Count Average Purchase Price Total Purchase Value\n",
       "SN                                                                      \n",
       "Haillyrgue51               3                  $3.17                $9.50\n",
       "Phistym51                  2                  $4.75                $9.50\n",
       "Lamil79                    2                  $4.64                $9.29\n",
       "Aina42                     3                  $3.07                $9.22\n",
       "Saesrideu94                2                  $4.59                $9.18"
      ]
     },
     "execution_count": 461,
     "metadata": {},
     "output_type": "execute_result"
    }
   ],
   "source": [
    "top_spending = top_players_df.sort_values(['Total Purchase Value'], ascending = False)\n",
    "print(top_spending)\n",
    "top_spending.head(5)"
   ]
  },
  {
   "cell_type": "markdown",
   "metadata": {},
   "source": [
    "## Most Popular Items"
   ]
  },
  {
   "cell_type": "markdown",
   "metadata": {},
   "source": [
    "* Retrieve the Item ID, Item Name, and Item Price columns\n",
    "\n",
    "\n",
    "* Group by Item ID and Item Name. Perform calculations to obtain purchase count, item price, and total purchase value\n",
    "\n",
    "\n",
    "* Create a summary data frame to hold the results\n",
    "\n",
    "\n",
    "* Sort the purchase count column in descending order\n",
    "\n",
    "\n",
    "* Optional: give the displayed data cleaner formatting\n",
    "\n",
    "\n",
    "* Display a preview of the summary data frame\n",
    "\n"
   ]
  },
  {
   "cell_type": "code",
   "execution_count": 462,
   "metadata": {},
   "outputs": [
    {
     "name": "stdout",
     "output_type": "stream",
     "text": [
      "     Item Id                                  Item Name  Item Price\n",
      "0        108  Extraction, Quickblade Of Trembling Hands        3.53\n",
      "1        143                          Frenzied Scimitar        1.56\n",
      "2         92                               Final Critic        4.88\n",
      "3        100                                Blindscythe        3.27\n",
      "4        131                                       Fury        1.44\n",
      "..       ...                                        ...         ...\n",
      "775       60                                       Wolf        3.54\n",
      "776      164                           Exiled Doomblade        1.63\n",
      "777       67      Celeste, Incarnation of the Corrupted        3.46\n",
      "778      101                               Final Critic        4.19\n",
      "779       50                                       Dawn        4.60\n",
      "\n",
      "[780 rows x 3 columns]\n"
     ]
    },
    {
     "data": {
      "text/html": [
       "<div>\n",
       "<style scoped>\n",
       "    .dataframe tbody tr th:only-of-type {\n",
       "        vertical-align: middle;\n",
       "    }\n",
       "\n",
       "    .dataframe tbody tr th {\n",
       "        vertical-align: top;\n",
       "    }\n",
       "\n",
       "    .dataframe thead th {\n",
       "        text-align: right;\n",
       "    }\n",
       "</style>\n",
       "<table border=\"1\" class=\"dataframe\">\n",
       "  <thead>\n",
       "    <tr style=\"text-align: right;\">\n",
       "      <th></th>\n",
       "      <th>Item Id</th>\n",
       "      <th>Item Name</th>\n",
       "      <th>Item Price</th>\n",
       "    </tr>\n",
       "  </thead>\n",
       "  <tbody>\n",
       "    <tr>\n",
       "      <td>0</td>\n",
       "      <td>108</td>\n",
       "      <td>Extraction, Quickblade Of Trembling Hands</td>\n",
       "      <td>3.53</td>\n",
       "    </tr>\n",
       "    <tr>\n",
       "      <td>1</td>\n",
       "      <td>143</td>\n",
       "      <td>Frenzied Scimitar</td>\n",
       "      <td>1.56</td>\n",
       "    </tr>\n",
       "    <tr>\n",
       "      <td>2</td>\n",
       "      <td>92</td>\n",
       "      <td>Final Critic</td>\n",
       "      <td>4.88</td>\n",
       "    </tr>\n",
       "    <tr>\n",
       "      <td>3</td>\n",
       "      <td>100</td>\n",
       "      <td>Blindscythe</td>\n",
       "      <td>3.27</td>\n",
       "    </tr>\n",
       "    <tr>\n",
       "      <td>4</td>\n",
       "      <td>131</td>\n",
       "      <td>Fury</td>\n",
       "      <td>1.44</td>\n",
       "    </tr>\n",
       "  </tbody>\n",
       "</table>\n",
       "</div>"
      ],
      "text/plain": [
       "   Item Id                                  Item Name  Item Price\n",
       "0      108  Extraction, Quickblade Of Trembling Hands        3.53\n",
       "1      143                          Frenzied Scimitar        1.56\n",
       "2       92                               Final Critic        4.88\n",
       "3      100                                Blindscythe        3.27\n",
       "4      131                                       Fury        1.44"
      ]
     },
     "execution_count": 462,
     "metadata": {},
     "output_type": "execute_result"
    }
   ],
   "source": [
    "most_pop_df = pd.DataFrame({'Item Id': purchase_data['Item ID'], 'Item Name': purchase_data['Item Name'], 'Item Price': purchase_data['Price']})\n",
    "print(most_pop_df)\n",
    "most_pop_df.head()"
   ]
  },
  {
   "cell_type": "code",
   "execution_count": 463,
   "metadata": {},
   "outputs": [
    {
     "name": "stdout",
     "output_type": "stream",
     "text": [
      "<pandas.core.groupby.generic.DataFrameGroupBy object at 0x7f9f88153b50>\n"
     ]
    },
    {
     "data": {
      "text/html": [
       "<div>\n",
       "<style scoped>\n",
       "    .dataframe tbody tr th:only-of-type {\n",
       "        vertical-align: middle;\n",
       "    }\n",
       "\n",
       "    .dataframe tbody tr th {\n",
       "        vertical-align: top;\n",
       "    }\n",
       "\n",
       "    .dataframe thead th {\n",
       "        text-align: right;\n",
       "    }\n",
       "</style>\n",
       "<table border=\"1\" class=\"dataframe\">\n",
       "  <thead>\n",
       "    <tr style=\"text-align: right;\">\n",
       "      <th></th>\n",
       "      <th></th>\n",
       "      <th>Item Price</th>\n",
       "    </tr>\n",
       "    <tr>\n",
       "      <th>Item Id</th>\n",
       "      <th>Item Name</th>\n",
       "      <th></th>\n",
       "    </tr>\n",
       "  </thead>\n",
       "  <tbody>\n",
       "    <tr>\n",
       "      <td>0</td>\n",
       "      <td>Splinter</td>\n",
       "      <td>4</td>\n",
       "    </tr>\n",
       "    <tr>\n",
       "      <td>1</td>\n",
       "      <td>Crucifer</td>\n",
       "      <td>3</td>\n",
       "    </tr>\n",
       "    <tr>\n",
       "      <td>2</td>\n",
       "      <td>Verdict</td>\n",
       "      <td>6</td>\n",
       "    </tr>\n",
       "    <tr>\n",
       "      <td>3</td>\n",
       "      <td>Phantomlight</td>\n",
       "      <td>6</td>\n",
       "    </tr>\n",
       "    <tr>\n",
       "      <td>4</td>\n",
       "      <td>Bloodlord's Fetish</td>\n",
       "      <td>5</td>\n",
       "    </tr>\n",
       "  </tbody>\n",
       "</table>\n",
       "</div>"
      ],
      "text/plain": [
       "                            Item Price\n",
       "Item Id Item Name                     \n",
       "0       Splinter                     4\n",
       "1       Crucifer                     3\n",
       "2       Verdict                      6\n",
       "3       Phantomlight                 6\n",
       "4       Bloodlord's Fetish           5"
      ]
     },
     "execution_count": 463,
     "metadata": {},
     "output_type": "execute_result"
    }
   ],
   "source": [
    "most_pop_gp = most_pop_df.groupby(['Item Id', 'Item Name'])\n",
    "print(most_pop_gp)\n",
    "most_pop_gp.count().head()"
   ]
  },
  {
   "cell_type": "code",
   "execution_count": 464,
   "metadata": {},
   "outputs": [
    {
     "data": {
      "text/plain": [
       "Item Id  Item Name                      \n",
       "0        Splinter                           4\n",
       "1        Crucifer                           3\n",
       "2        Verdict                            6\n",
       "3        Phantomlight                       6\n",
       "4        Bloodlord's Fetish                 5\n",
       "                                           ..\n",
       "179      Wolf, Promise of the Moonwalker    6\n",
       "180      Stormcaller                        1\n",
       "181      Reaper's Toll                      5\n",
       "182      Toothpick                          3\n",
       "183      Dragon's Greatsword                3\n",
       "Name: Item Id, Length: 183, dtype: int64"
      ]
     },
     "execution_count": 464,
     "metadata": {},
     "output_type": "execute_result"
    }
   ],
   "source": [
    "pop_purch_count = most_pop_gp['Item Id'].count()\n",
    "pop_purch_count"
   ]
  },
  {
   "cell_type": "code",
   "execution_count": 465,
   "metadata": {},
   "outputs": [
    {
     "data": {
      "text/plain": [
       "Item Id  Item Name                      \n",
       "0        Splinter                           [1.28]\n",
       "1        Crucifer                           [3.26]\n",
       "2        Verdict                            [2.48]\n",
       "3        Phantomlight                       [2.49]\n",
       "4        Bloodlord's Fetish                  [1.7]\n",
       "                                             ...  \n",
       "179      Wolf, Promise of the Moonwalker    [4.48]\n",
       "180      Stormcaller                        [3.36]\n",
       "181      Reaper's Toll                      [1.66]\n",
       "182      Toothpick                          [4.03]\n",
       "183      Dragon's Greatsword                [1.09]\n",
       "Name: Item Price, Length: 183, dtype: object"
      ]
     },
     "execution_count": 465,
     "metadata": {},
     "output_type": "execute_result"
    }
   ],
   "source": [
    "pop_item_price = most_pop_gp['Item Price'].unique()\n",
    "pop_item_price"
   ]
  },
  {
   "cell_type": "code",
   "execution_count": 472,
   "metadata": {},
   "outputs": [
    {
     "data": {
      "text/plain": [
       "Item Id  Item Name                      \n",
       "0        Splinter                            5.12\n",
       "1        Crucifer                            9.78\n",
       "2        Verdict                            14.88\n",
       "3        Phantomlight                       14.94\n",
       "4        Bloodlord's Fetish                  8.50\n",
       "                                            ...  \n",
       "179      Wolf, Promise of the Moonwalker    26.88\n",
       "180      Stormcaller                         3.36\n",
       "181      Reaper's Toll                       8.30\n",
       "182      Toothpick                          12.09\n",
       "183      Dragon's Greatsword                 3.27\n",
       "Name: Item Price, Length: 183, dtype: float64"
      ]
     },
     "execution_count": 472,
     "metadata": {},
     "output_type": "execute_result"
    }
   ],
   "source": [
    "pop_total_purch = most_pop_gp['Item Price'].sum()\n",
    "pop_total_purch"
   ]
  },
  {
   "cell_type": "code",
   "execution_count": 484,
   "metadata": {},
   "outputs": [
    {
     "name": "stdout",
     "output_type": "stream",
     "text": [
      "                                                                                   Item Id  \\\n",
      "Item Id Item Name                                                                            \n",
      "0       Splinter                                             ((0, Splinter), [0, 0, 0, 0])   \n",
      "1       Crucifer                                                ((1, Crucifer), [1, 1, 1])   \n",
      "2       Verdict                                         ((2, Verdict), [2, 2, 2, 2, 2, 2])   \n",
      "3       Phantomlight                               ((3, Phantomlight), [3, 3, 3, 3, 3, 3])   \n",
      "4       Bloodlord's Fetish                      ((4, Bloodlord's Fetish), [4, 4, 4, 4, 4])   \n",
      "...                                                                                    ...   \n",
      "179     Wolf, Promise of the Moonwalker  ((179, Wolf, Promise of the Moonwalker), [179,...   \n",
      "180     Stormcaller                                            ((180, Stormcaller), [180])   \n",
      "181     Reaper's Toll                    ((181, Reaper's Toll), [181, 181, 181, 181, 181])   \n",
      "182     Toothpick                                      ((182, Toothpick), [182, 182, 182])   \n",
      "183     Dragon's Greatsword                  ((183, Dragon's Greatsword), [183, 183, 183])   \n",
      "\n",
      "                                                                                 Item Name  \\\n",
      "Item Id Item Name                                                                            \n",
      "0       Splinter                         ((0, Splinter), [Splinter, Splinter, Splinter,...   \n",
      "1       Crucifer                           ((1, Crucifer), [Crucifer, Crucifer, Crucifer])   \n",
      "2       Verdict                          ((2, Verdict), [Verdict, Verdict, Verdict, Ver...   \n",
      "3       Phantomlight                     ((3, Phantomlight), [Phantomlight, Phantomligh...   \n",
      "4       Bloodlord's Fetish               ((4, Bloodlord's Fetish), [Bloodlord's Fetish,...   \n",
      "...                                                                                    ...   \n",
      "179     Wolf, Promise of the Moonwalker  ((179, Wolf, Promise of the Moonwalker), [Wolf...   \n",
      "180     Stormcaller                                    ((180, Stormcaller), [Stormcaller])   \n",
      "181     Reaper's Toll                    ((181, Reaper's Toll), [Reaper's Toll, Reaper'...   \n",
      "182     Toothpick                        ((182, Toothpick), [Toothpick, Toothpick, Toot...   \n",
      "183     Dragon's Greatsword              ((183, Dragon's Greatsword), [Dragon's Greatsw...   \n",
      "\n",
      "                                         Item Count Item Price  \\\n",
      "Item Id Item Name                                                \n",
      "0       Splinter                                  4     [1.28]   \n",
      "1       Crucifer                                  3     [3.26]   \n",
      "2       Verdict                                   6     [2.48]   \n",
      "3       Phantomlight                              6     [2.49]   \n",
      "4       Bloodlord's Fetish                        5      [1.7]   \n",
      "...                                             ...        ...   \n",
      "179     Wolf, Promise of the Moonwalker           6     [4.48]   \n",
      "180     Stormcaller                               1     [3.36]   \n",
      "181     Reaper's Toll                             5     [1.66]   \n",
      "182     Toothpick                                 3     [4.03]   \n",
      "183     Dragon's Greatsword                       3     [1.09]   \n",
      "\n",
      "                                         Total Purchases  \n",
      "Item Id Item Name                                         \n",
      "0       Splinter                                    5.12  \n",
      "1       Crucifer                                    9.78  \n",
      "2       Verdict                                    14.88  \n",
      "3       Phantomlight                               14.94  \n",
      "4       Bloodlord's Fetish                          8.50  \n",
      "...                                                  ...  \n",
      "179     Wolf, Promise of the Moonwalker            26.88  \n",
      "180     Stormcaller                                 3.36  \n",
      "181     Reaper's Toll                               8.30  \n",
      "182     Toothpick                                  12.09  \n",
      "183     Dragon's Greatsword                         3.27  \n",
      "\n",
      "[183 rows x 5 columns]\n"
     ]
    },
    {
     "data": {
      "text/html": [
       "<div>\n",
       "<style scoped>\n",
       "    .dataframe tbody tr th:only-of-type {\n",
       "        vertical-align: middle;\n",
       "    }\n",
       "\n",
       "    .dataframe tbody tr th {\n",
       "        vertical-align: top;\n",
       "    }\n",
       "\n",
       "    .dataframe thead th {\n",
       "        text-align: right;\n",
       "    }\n",
       "</style>\n",
       "<table border=\"1\" class=\"dataframe\">\n",
       "  <thead>\n",
       "    <tr style=\"text-align: right;\">\n",
       "      <th></th>\n",
       "      <th></th>\n",
       "      <th>Item Id</th>\n",
       "      <th>Item Name</th>\n",
       "      <th>Item Count</th>\n",
       "      <th>Item Price</th>\n",
       "      <th>Total Purchases</th>\n",
       "    </tr>\n",
       "    <tr>\n",
       "      <th>Item Id</th>\n",
       "      <th>Item Name</th>\n",
       "      <th></th>\n",
       "      <th></th>\n",
       "      <th></th>\n",
       "      <th></th>\n",
       "      <th></th>\n",
       "    </tr>\n",
       "  </thead>\n",
       "  <tbody>\n",
       "    <tr>\n",
       "      <td>0</td>\n",
       "      <td>Splinter</td>\n",
       "      <td>((0, Splinter), [0, 0, 0, 0])</td>\n",
       "      <td>((0, Splinter), [Splinter, Splinter, Splinter,...</td>\n",
       "      <td>4</td>\n",
       "      <td>[1.28]</td>\n",
       "      <td>5.12</td>\n",
       "    </tr>\n",
       "    <tr>\n",
       "      <td>1</td>\n",
       "      <td>Crucifer</td>\n",
       "      <td>((1, Crucifer), [1, 1, 1])</td>\n",
       "      <td>((1, Crucifer), [Crucifer, Crucifer, Crucifer])</td>\n",
       "      <td>3</td>\n",
       "      <td>[3.26]</td>\n",
       "      <td>9.78</td>\n",
       "    </tr>\n",
       "    <tr>\n",
       "      <td>2</td>\n",
       "      <td>Verdict</td>\n",
       "      <td>((2, Verdict), [2, 2, 2, 2, 2, 2])</td>\n",
       "      <td>((2, Verdict), [Verdict, Verdict, Verdict, Ver...</td>\n",
       "      <td>6</td>\n",
       "      <td>[2.48]</td>\n",
       "      <td>14.88</td>\n",
       "    </tr>\n",
       "    <tr>\n",
       "      <td>3</td>\n",
       "      <td>Phantomlight</td>\n",
       "      <td>((3, Phantomlight), [3, 3, 3, 3, 3, 3])</td>\n",
       "      <td>((3, Phantomlight), [Phantomlight, Phantomligh...</td>\n",
       "      <td>6</td>\n",
       "      <td>[2.49]</td>\n",
       "      <td>14.94</td>\n",
       "    </tr>\n",
       "    <tr>\n",
       "      <td>4</td>\n",
       "      <td>Bloodlord's Fetish</td>\n",
       "      <td>((4, Bloodlord's Fetish), [4, 4, 4, 4, 4])</td>\n",
       "      <td>((4, Bloodlord's Fetish), [Bloodlord's Fetish,...</td>\n",
       "      <td>5</td>\n",
       "      <td>[1.7]</td>\n",
       "      <td>8.50</td>\n",
       "    </tr>\n",
       "  </tbody>\n",
       "</table>\n",
       "</div>"
      ],
      "text/plain": [
       "                                                               Item Id  \\\n",
       "Item Id Item Name                                                        \n",
       "0       Splinter                         ((0, Splinter), [0, 0, 0, 0])   \n",
       "1       Crucifer                            ((1, Crucifer), [1, 1, 1])   \n",
       "2       Verdict                     ((2, Verdict), [2, 2, 2, 2, 2, 2])   \n",
       "3       Phantomlight           ((3, Phantomlight), [3, 3, 3, 3, 3, 3])   \n",
       "4       Bloodlord's Fetish  ((4, Bloodlord's Fetish), [4, 4, 4, 4, 4])   \n",
       "\n",
       "                                                                    Item Name  \\\n",
       "Item Id Item Name                                                               \n",
       "0       Splinter            ((0, Splinter), [Splinter, Splinter, Splinter,...   \n",
       "1       Crucifer              ((1, Crucifer), [Crucifer, Crucifer, Crucifer])   \n",
       "2       Verdict             ((2, Verdict), [Verdict, Verdict, Verdict, Ver...   \n",
       "3       Phantomlight        ((3, Phantomlight), [Phantomlight, Phantomligh...   \n",
       "4       Bloodlord's Fetish  ((4, Bloodlord's Fetish), [Bloodlord's Fetish,...   \n",
       "\n",
       "                            Item Count Item Price  Total Purchases  \n",
       "Item Id Item Name                                                   \n",
       "0       Splinter                     4     [1.28]             5.12  \n",
       "1       Crucifer                     3     [3.26]             9.78  \n",
       "2       Verdict                      6     [2.48]            14.88  \n",
       "3       Phantomlight                 6     [2.49]            14.94  \n",
       "4       Bloodlord's Fetish           5      [1.7]             8.50  "
      ]
     },
     "execution_count": 484,
     "metadata": {},
     "output_type": "execute_result"
    }
   ],
   "source": [
    "most_pop_sum = pd.DataFrame({'Item Id': most_pop_gp['Item Id'], 'Item Name': most_pop_gp['Item Name'], 'Item Count': pop_purch_count, 'Item Price': pop_item_price, 'Total Purchases': pop_total_purch})\n",
    "print(most_pop_sum)\n",
    "most_pop_sum.head()"
   ]
  },
  {
   "cell_type": "code",
   "execution_count": 485,
   "metadata": {},
   "outputs": [
    {
     "data": {
      "text/plain": [
       "Item Id  Item Name                      \n",
       "0        Splinter                           $1.28\n",
       "1        Crucifer                           $3.26\n",
       "2        Verdict                            $2.48\n",
       "3        Phantomlight                       $2.49\n",
       "4        Bloodlord's Fetish                 $1.70\n",
       "                                            ...  \n",
       "179      Wolf, Promise of the Moonwalker    $4.48\n",
       "180      Stormcaller                        $3.36\n",
       "181      Reaper's Toll                      $1.66\n",
       "182      Toothpick                          $4.03\n",
       "183      Dragon's Greatsword                $1.09\n",
       "Name: Item Price, Length: 183, dtype: object"
      ]
     },
     "execution_count": 485,
     "metadata": {},
     "output_type": "execute_result"
    }
   ],
   "source": [
    "most_pop_sum['Item Price'] = most_pop_sum['Item Price'].astype(float)\n",
    "most_pop_sum['Item Price'] = most_pop_sum['Item Price'].map('${:,.2f}'.format)\n",
    "most_pop_sum['Item Price']"
   ]
  },
  {
   "cell_type": "code",
   "execution_count": 486,
   "metadata": {},
   "outputs": [
    {
     "name": "stdout",
     "output_type": "stream",
     "text": [
      "                                                                                   Item Id  \\\n",
      "Item Id Item Name                                                                            \n",
      "0       Splinter                                             ((0, Splinter), [0, 0, 0, 0])   \n",
      "1       Crucifer                                                ((1, Crucifer), [1, 1, 1])   \n",
      "2       Verdict                                         ((2, Verdict), [2, 2, 2, 2, 2, 2])   \n",
      "3       Phantomlight                               ((3, Phantomlight), [3, 3, 3, 3, 3, 3])   \n",
      "4       Bloodlord's Fetish                      ((4, Bloodlord's Fetish), [4, 4, 4, 4, 4])   \n",
      "...                                                                                    ...   \n",
      "179     Wolf, Promise of the Moonwalker  ((179, Wolf, Promise of the Moonwalker), [179,...   \n",
      "180     Stormcaller                                            ((180, Stormcaller), [180])   \n",
      "181     Reaper's Toll                    ((181, Reaper's Toll), [181, 181, 181, 181, 181])   \n",
      "182     Toothpick                                      ((182, Toothpick), [182, 182, 182])   \n",
      "183     Dragon's Greatsword                  ((183, Dragon's Greatsword), [183, 183, 183])   \n",
      "\n",
      "                                                                                 Item Name  \\\n",
      "Item Id Item Name                                                                            \n",
      "0       Splinter                         ((0, Splinter), [Splinter, Splinter, Splinter,...   \n",
      "1       Crucifer                           ((1, Crucifer), [Crucifer, Crucifer, Crucifer])   \n",
      "2       Verdict                          ((2, Verdict), [Verdict, Verdict, Verdict, Ver...   \n",
      "3       Phantomlight                     ((3, Phantomlight), [Phantomlight, Phantomligh...   \n",
      "4       Bloodlord's Fetish               ((4, Bloodlord's Fetish), [Bloodlord's Fetish,...   \n",
      "...                                                                                    ...   \n",
      "179     Wolf, Promise of the Moonwalker  ((179, Wolf, Promise of the Moonwalker), [Wolf...   \n",
      "180     Stormcaller                                    ((180, Stormcaller), [Stormcaller])   \n",
      "181     Reaper's Toll                    ((181, Reaper's Toll), [Reaper's Toll, Reaper'...   \n",
      "182     Toothpick                        ((182, Toothpick), [Toothpick, Toothpick, Toot...   \n",
      "183     Dragon's Greatsword              ((183, Dragon's Greatsword), [Dragon's Greatsw...   \n",
      "\n",
      "                                         Item Count Item Price  \\\n",
      "Item Id Item Name                                                \n",
      "0       Splinter                                  4      $1.28   \n",
      "1       Crucifer                                  3      $3.26   \n",
      "2       Verdict                                   6      $2.48   \n",
      "3       Phantomlight                              6      $2.49   \n",
      "4       Bloodlord's Fetish                        5      $1.70   \n",
      "...                                             ...        ...   \n",
      "179     Wolf, Promise of the Moonwalker           6      $4.48   \n",
      "180     Stormcaller                               1      $3.36   \n",
      "181     Reaper's Toll                             5      $1.66   \n",
      "182     Toothpick                                 3      $4.03   \n",
      "183     Dragon's Greatsword                       3      $1.09   \n",
      "\n",
      "                                         Total Purchases  \n",
      "Item Id Item Name                                         \n",
      "0       Splinter                                    5.12  \n",
      "1       Crucifer                                    9.78  \n",
      "2       Verdict                                    14.88  \n",
      "3       Phantomlight                               14.94  \n",
      "4       Bloodlord's Fetish                          8.50  \n",
      "...                                                  ...  \n",
      "179     Wolf, Promise of the Moonwalker            26.88  \n",
      "180     Stormcaller                                 3.36  \n",
      "181     Reaper's Toll                               8.30  \n",
      "182     Toothpick                                  12.09  \n",
      "183     Dragon's Greatsword                         3.27  \n",
      "\n",
      "[183 rows x 5 columns]\n"
     ]
    },
    {
     "data": {
      "text/html": [
       "<div>\n",
       "<style scoped>\n",
       "    .dataframe tbody tr th:only-of-type {\n",
       "        vertical-align: middle;\n",
       "    }\n",
       "\n",
       "    .dataframe tbody tr th {\n",
       "        vertical-align: top;\n",
       "    }\n",
       "\n",
       "    .dataframe thead th {\n",
       "        text-align: right;\n",
       "    }\n",
       "</style>\n",
       "<table border=\"1\" class=\"dataframe\">\n",
       "  <thead>\n",
       "    <tr style=\"text-align: right;\">\n",
       "      <th></th>\n",
       "      <th></th>\n",
       "      <th>Item Id</th>\n",
       "      <th>Item Name</th>\n",
       "      <th>Item Count</th>\n",
       "      <th>Item Price</th>\n",
       "      <th>Total Purchases</th>\n",
       "    </tr>\n",
       "    <tr>\n",
       "      <th>Item Id</th>\n",
       "      <th>Item Name</th>\n",
       "      <th></th>\n",
       "      <th></th>\n",
       "      <th></th>\n",
       "      <th></th>\n",
       "      <th></th>\n",
       "    </tr>\n",
       "  </thead>\n",
       "  <tbody>\n",
       "    <tr>\n",
       "      <td>0</td>\n",
       "      <td>Splinter</td>\n",
       "      <td>((0, Splinter), [0, 0, 0, 0])</td>\n",
       "      <td>((0, Splinter), [Splinter, Splinter, Splinter,...</td>\n",
       "      <td>4</td>\n",
       "      <td>$1.28</td>\n",
       "      <td>5.12</td>\n",
       "    </tr>\n",
       "    <tr>\n",
       "      <td>1</td>\n",
       "      <td>Crucifer</td>\n",
       "      <td>((1, Crucifer), [1, 1, 1])</td>\n",
       "      <td>((1, Crucifer), [Crucifer, Crucifer, Crucifer])</td>\n",
       "      <td>3</td>\n",
       "      <td>$3.26</td>\n",
       "      <td>9.78</td>\n",
       "    </tr>\n",
       "    <tr>\n",
       "      <td>2</td>\n",
       "      <td>Verdict</td>\n",
       "      <td>((2, Verdict), [2, 2, 2, 2, 2, 2])</td>\n",
       "      <td>((2, Verdict), [Verdict, Verdict, Verdict, Ver...</td>\n",
       "      <td>6</td>\n",
       "      <td>$2.48</td>\n",
       "      <td>14.88</td>\n",
       "    </tr>\n",
       "    <tr>\n",
       "      <td>3</td>\n",
       "      <td>Phantomlight</td>\n",
       "      <td>((3, Phantomlight), [3, 3, 3, 3, 3, 3])</td>\n",
       "      <td>((3, Phantomlight), [Phantomlight, Phantomligh...</td>\n",
       "      <td>6</td>\n",
       "      <td>$2.49</td>\n",
       "      <td>14.94</td>\n",
       "    </tr>\n",
       "    <tr>\n",
       "      <td>4</td>\n",
       "      <td>Bloodlord's Fetish</td>\n",
       "      <td>((4, Bloodlord's Fetish), [4, 4, 4, 4, 4])</td>\n",
       "      <td>((4, Bloodlord's Fetish), [Bloodlord's Fetish,...</td>\n",
       "      <td>5</td>\n",
       "      <td>$1.70</td>\n",
       "      <td>8.50</td>\n",
       "    </tr>\n",
       "  </tbody>\n",
       "</table>\n",
       "</div>"
      ],
      "text/plain": [
       "                                                               Item Id  \\\n",
       "Item Id Item Name                                                        \n",
       "0       Splinter                         ((0, Splinter), [0, 0, 0, 0])   \n",
       "1       Crucifer                            ((1, Crucifer), [1, 1, 1])   \n",
       "2       Verdict                     ((2, Verdict), [2, 2, 2, 2, 2, 2])   \n",
       "3       Phantomlight           ((3, Phantomlight), [3, 3, 3, 3, 3, 3])   \n",
       "4       Bloodlord's Fetish  ((4, Bloodlord's Fetish), [4, 4, 4, 4, 4])   \n",
       "\n",
       "                                                                    Item Name  \\\n",
       "Item Id Item Name                                                               \n",
       "0       Splinter            ((0, Splinter), [Splinter, Splinter, Splinter,...   \n",
       "1       Crucifer              ((1, Crucifer), [Crucifer, Crucifer, Crucifer])   \n",
       "2       Verdict             ((2, Verdict), [Verdict, Verdict, Verdict, Ver...   \n",
       "3       Phantomlight        ((3, Phantomlight), [Phantomlight, Phantomligh...   \n",
       "4       Bloodlord's Fetish  ((4, Bloodlord's Fetish), [Bloodlord's Fetish,...   \n",
       "\n",
       "                            Item Count Item Price  Total Purchases  \n",
       "Item Id Item Name                                                   \n",
       "0       Splinter                     4      $1.28             5.12  \n",
       "1       Crucifer                     3      $3.26             9.78  \n",
       "2       Verdict                      6      $2.48            14.88  \n",
       "3       Phantomlight                 6      $2.49            14.94  \n",
       "4       Bloodlord's Fetish           5      $1.70             8.50  "
      ]
     },
     "execution_count": 486,
     "metadata": {},
     "output_type": "execute_result"
    }
   ],
   "source": [
    "print(most_pop_sum)\n",
    "most_pop_sum.head()"
   ]
  },
  {
   "cell_type": "code",
   "execution_count": 487,
   "metadata": {},
   "outputs": [
    {
     "name": "stdout",
     "output_type": "stream",
     "text": [
      "                                                                                                Item Id  \\\n",
      "Item Id Item Name                                                                                         \n",
      "178     Oathbreaker, Last Hope of the Breaking Storm  ((178, Oathbreaker, Last Hope of the Breaking ...   \n",
      "145     Fiery Glass Crusader                          ((145, Fiery Glass Crusader), [145, 145, 145, ...   \n",
      "108     Extraction, Quickblade Of Trembling Hands     ((108, Extraction, Quickblade Of Trembling Han...   \n",
      "82      Nirvana                                       ((82, Nirvana), [82, 82, 82, 82, 82, 82, 82, 8...   \n",
      "19      Pursuit, Cudgel of Necromancy                 ((19, Pursuit, Cudgel of Necromancy), [19, 19,...   \n",
      "...                                                                                                 ...   \n",
      "104     Gladiator's Glaive                                           ((104, Gladiator's Glaive), [104])   \n",
      "23      Crucifer                                                                 ((23, Crucifer), [23])   \n",
      "180     Stormcaller                                                         ((180, Stormcaller), [180])   \n",
      "91      Celeste                                                                   ((91, Celeste), [91])   \n",
      "134     Undead Crusader                                                 ((134, Undead Crusader), [134])   \n",
      "\n",
      "                                                                                              Item Name  \\\n",
      "Item Id Item Name                                                                                         \n",
      "178     Oathbreaker, Last Hope of the Breaking Storm  ((178, Oathbreaker, Last Hope of the Breaking ...   \n",
      "145     Fiery Glass Crusader                          ((145, Fiery Glass Crusader), [Fiery Glass Cru...   \n",
      "108     Extraction, Quickblade Of Trembling Hands     ((108, Extraction, Quickblade Of Trembling Han...   \n",
      "82      Nirvana                                       ((82, Nirvana), [Nirvana, Nirvana, Nirvana, Ni...   \n",
      "19      Pursuit, Cudgel of Necromancy                 ((19, Pursuit, Cudgel of Necromancy), [Pursuit...   \n",
      "...                                                                                                 ...   \n",
      "104     Gladiator's Glaive                            ((104, Gladiator's Glaive), [Gladiator's Glaive])   \n",
      "23      Crucifer                                                           ((23, Crucifer), [Crucifer])   \n",
      "180     Stormcaller                                                 ((180, Stormcaller), [Stormcaller])   \n",
      "91      Celeste                                                              ((91, Celeste), [Celeste])   \n",
      "134     Undead Crusader                                     ((134, Undead Crusader), [Undead Crusader])   \n",
      "\n",
      "                                                      Item Count Item Price  \\\n",
      "Item Id Item Name                                                             \n",
      "178     Oathbreaker, Last Hope of the Breaking Storm          12      $4.23   \n",
      "145     Fiery Glass Crusader                                   9      $4.58   \n",
      "108     Extraction, Quickblade Of Trembling Hands              9      $3.53   \n",
      "82      Nirvana                                                9      $4.90   \n",
      "19      Pursuit, Cudgel of Necromancy                          8      $1.02   \n",
      "...                                                          ...        ...   \n",
      "104     Gladiator's Glaive                                     1      $1.93   \n",
      "23      Crucifer                                               1      $1.99   \n",
      "180     Stormcaller                                            1      $3.36   \n",
      "91      Celeste                                                1      $4.17   \n",
      "134     Undead Crusader                                        1      $4.50   \n",
      "\n",
      "                                                      Total Purchases  \n",
      "Item Id Item Name                                                      \n",
      "178     Oathbreaker, Last Hope of the Breaking Storm            50.76  \n",
      "145     Fiery Glass Crusader                                    41.22  \n",
      "108     Extraction, Quickblade Of Trembling Hands               31.77  \n",
      "82      Nirvana                                                 44.10  \n",
      "19      Pursuit, Cudgel of Necromancy                            8.16  \n",
      "...                                                               ...  \n",
      "104     Gladiator's Glaive                                       1.93  \n",
      "23      Crucifer                                                 1.99  \n",
      "180     Stormcaller                                              3.36  \n",
      "91      Celeste                                                  4.17  \n",
      "134     Undead Crusader                                          4.50  \n",
      "\n",
      "[183 rows x 5 columns]\n"
     ]
    },
    {
     "data": {
      "text/html": [
       "<div>\n",
       "<style scoped>\n",
       "    .dataframe tbody tr th:only-of-type {\n",
       "        vertical-align: middle;\n",
       "    }\n",
       "\n",
       "    .dataframe tbody tr th {\n",
       "        vertical-align: top;\n",
       "    }\n",
       "\n",
       "    .dataframe thead th {\n",
       "        text-align: right;\n",
       "    }\n",
       "</style>\n",
       "<table border=\"1\" class=\"dataframe\">\n",
       "  <thead>\n",
       "    <tr style=\"text-align: right;\">\n",
       "      <th></th>\n",
       "      <th></th>\n",
       "      <th>Item Id</th>\n",
       "      <th>Item Name</th>\n",
       "      <th>Item Count</th>\n",
       "      <th>Item Price</th>\n",
       "      <th>Total Purchases</th>\n",
       "    </tr>\n",
       "    <tr>\n",
       "      <th>Item Id</th>\n",
       "      <th>Item Name</th>\n",
       "      <th></th>\n",
       "      <th></th>\n",
       "      <th></th>\n",
       "      <th></th>\n",
       "      <th></th>\n",
       "    </tr>\n",
       "  </thead>\n",
       "  <tbody>\n",
       "    <tr>\n",
       "      <td>178</td>\n",
       "      <td>Oathbreaker, Last Hope of the Breaking Storm</td>\n",
       "      <td>((178, Oathbreaker, Last Hope of the Breaking ...</td>\n",
       "      <td>((178, Oathbreaker, Last Hope of the Breaking ...</td>\n",
       "      <td>12</td>\n",
       "      <td>$4.23</td>\n",
       "      <td>50.76</td>\n",
       "    </tr>\n",
       "    <tr>\n",
       "      <td>145</td>\n",
       "      <td>Fiery Glass Crusader</td>\n",
       "      <td>((145, Fiery Glass Crusader), [145, 145, 145, ...</td>\n",
       "      <td>((145, Fiery Glass Crusader), [Fiery Glass Cru...</td>\n",
       "      <td>9</td>\n",
       "      <td>$4.58</td>\n",
       "      <td>41.22</td>\n",
       "    </tr>\n",
       "    <tr>\n",
       "      <td>108</td>\n",
       "      <td>Extraction, Quickblade Of Trembling Hands</td>\n",
       "      <td>((108, Extraction, Quickblade Of Trembling Han...</td>\n",
       "      <td>((108, Extraction, Quickblade Of Trembling Han...</td>\n",
       "      <td>9</td>\n",
       "      <td>$3.53</td>\n",
       "      <td>31.77</td>\n",
       "    </tr>\n",
       "    <tr>\n",
       "      <td>82</td>\n",
       "      <td>Nirvana</td>\n",
       "      <td>((82, Nirvana), [82, 82, 82, 82, 82, 82, 82, 8...</td>\n",
       "      <td>((82, Nirvana), [Nirvana, Nirvana, Nirvana, Ni...</td>\n",
       "      <td>9</td>\n",
       "      <td>$4.90</td>\n",
       "      <td>44.10</td>\n",
       "    </tr>\n",
       "    <tr>\n",
       "      <td>19</td>\n",
       "      <td>Pursuit, Cudgel of Necromancy</td>\n",
       "      <td>((19, Pursuit, Cudgel of Necromancy), [19, 19,...</td>\n",
       "      <td>((19, Pursuit, Cudgel of Necromancy), [Pursuit...</td>\n",
       "      <td>8</td>\n",
       "      <td>$1.02</td>\n",
       "      <td>8.16</td>\n",
       "    </tr>\n",
       "  </tbody>\n",
       "</table>\n",
       "</div>"
      ],
      "text/plain": [
       "                                                                                                Item Id  \\\n",
       "Item Id Item Name                                                                                         \n",
       "178     Oathbreaker, Last Hope of the Breaking Storm  ((178, Oathbreaker, Last Hope of the Breaking ...   \n",
       "145     Fiery Glass Crusader                          ((145, Fiery Glass Crusader), [145, 145, 145, ...   \n",
       "108     Extraction, Quickblade Of Trembling Hands     ((108, Extraction, Quickblade Of Trembling Han...   \n",
       "82      Nirvana                                       ((82, Nirvana), [82, 82, 82, 82, 82, 82, 82, 8...   \n",
       "19      Pursuit, Cudgel of Necromancy                 ((19, Pursuit, Cudgel of Necromancy), [19, 19,...   \n",
       "\n",
       "                                                                                              Item Name  \\\n",
       "Item Id Item Name                                                                                         \n",
       "178     Oathbreaker, Last Hope of the Breaking Storm  ((178, Oathbreaker, Last Hope of the Breaking ...   \n",
       "145     Fiery Glass Crusader                          ((145, Fiery Glass Crusader), [Fiery Glass Cru...   \n",
       "108     Extraction, Quickblade Of Trembling Hands     ((108, Extraction, Quickblade Of Trembling Han...   \n",
       "82      Nirvana                                       ((82, Nirvana), [Nirvana, Nirvana, Nirvana, Ni...   \n",
       "19      Pursuit, Cudgel of Necromancy                 ((19, Pursuit, Cudgel of Necromancy), [Pursuit...   \n",
       "\n",
       "                                                      Item Count Item Price  \\\n",
       "Item Id Item Name                                                             \n",
       "178     Oathbreaker, Last Hope of the Breaking Storm          12      $4.23   \n",
       "145     Fiery Glass Crusader                                   9      $4.58   \n",
       "108     Extraction, Quickblade Of Trembling Hands              9      $3.53   \n",
       "82      Nirvana                                                9      $4.90   \n",
       "19      Pursuit, Cudgel of Necromancy                          8      $1.02   \n",
       "\n",
       "                                                      Total Purchases  \n",
       "Item Id Item Name                                                      \n",
       "178     Oathbreaker, Last Hope of the Breaking Storm            50.76  \n",
       "145     Fiery Glass Crusader                                    41.22  \n",
       "108     Extraction, Quickblade Of Trembling Hands               31.77  \n",
       "82      Nirvana                                                 44.10  \n",
       "19      Pursuit, Cudgel of Necromancy                            8.16  "
      ]
     },
     "execution_count": 487,
     "metadata": {},
     "output_type": "execute_result"
    }
   ],
   "source": [
    "most_pop_sort = most_pop_sum.sort_values(['Item Count'], ascending = False)\n",
    "print(most_pop_sort)\n",
    "most_pop_sort.head()"
   ]
  },
  {
   "cell_type": "markdown",
   "metadata": {},
   "source": [
    "## Most Profitable Items"
   ]
  },
  {
   "cell_type": "markdown",
   "metadata": {},
   "source": [
    "* Sort the above table by total purchase value in descending order\n",
    "\n",
    "\n",
    "* Optional: give the displayed data cleaner formatting\n",
    "\n",
    "\n",
    "* Display a preview of the data frame\n",
    "\n"
   ]
  },
  {
   "cell_type": "code",
   "execution_count": 488,
   "metadata": {
    "scrolled": true
   },
   "outputs": [
    {
     "name": "stdout",
     "output_type": "stream",
     "text": [
      "                                                                                                Item Id  \\\n",
      "Item Id Item Name                                                                                         \n",
      "178     Oathbreaker, Last Hope of the Breaking Storm  ((178, Oathbreaker, Last Hope of the Breaking ...   \n",
      "82      Nirvana                                       ((82, Nirvana), [82, 82, 82, 82, 82, 82, 82, 8...   \n",
      "145     Fiery Glass Crusader                          ((145, Fiery Glass Crusader), [145, 145, 145, ...   \n",
      "92      Final Critic                                  ((92, Final Critic), [92, 92, 92, 92, 92, 92, ...   \n",
      "103     Singed Scalpel                                ((103, Singed Scalpel), [103, 103, 103, 103, 1...   \n",
      "...                                                                                                 ...   \n",
      "125     Whistling Mithril Warblade                      ((125, Whistling Mithril Warblade), [125, 125])   \n",
      "126     Exiled Mithril Longsword                               ((126, Exiled Mithril Longsword), [126])   \n",
      "23      Crucifer                                                                 ((23, Crucifer), [23])   \n",
      "104     Gladiator's Glaive                                           ((104, Gladiator's Glaive), [104])   \n",
      "42      The Decapitator                                                   ((42, The Decapitator), [42])   \n",
      "\n",
      "                                                                                              Item Name  \\\n",
      "Item Id Item Name                                                                                         \n",
      "178     Oathbreaker, Last Hope of the Breaking Storm  ((178, Oathbreaker, Last Hope of the Breaking ...   \n",
      "82      Nirvana                                       ((82, Nirvana), [Nirvana, Nirvana, Nirvana, Ni...   \n",
      "145     Fiery Glass Crusader                          ((145, Fiery Glass Crusader), [Fiery Glass Cru...   \n",
      "92      Final Critic                                  ((92, Final Critic), [Final Critic, Final Crit...   \n",
      "103     Singed Scalpel                                ((103, Singed Scalpel), [Singed Scalpel, Singe...   \n",
      "...                                                                                                 ...   \n",
      "125     Whistling Mithril Warblade                    ((125, Whistling Mithril Warblade), [Whistling...   \n",
      "126     Exiled Mithril Longsword                      ((126, Exiled Mithril Longsword), [Exiled Mith...   \n",
      "23      Crucifer                                                           ((23, Crucifer), [Crucifer])   \n",
      "104     Gladiator's Glaive                            ((104, Gladiator's Glaive), [Gladiator's Glaive])   \n",
      "42      The Decapitator                                      ((42, The Decapitator), [The Decapitator])   \n",
      "\n",
      "                                                      Item Count Item Price  \\\n",
      "Item Id Item Name                                                             \n",
      "178     Oathbreaker, Last Hope of the Breaking Storm          12      $4.23   \n",
      "82      Nirvana                                                9      $4.90   \n",
      "145     Fiery Glass Crusader                                   9      $4.58   \n",
      "92      Final Critic                                           8      $4.88   \n",
      "103     Singed Scalpel                                         8      $4.35   \n",
      "...                                                          ...        ...   \n",
      "125     Whistling Mithril Warblade                             2      $1.00   \n",
      "126     Exiled Mithril Longsword                               1      $2.00   \n",
      "23      Crucifer                                               1      $1.99   \n",
      "104     Gladiator's Glaive                                     1      $1.93   \n",
      "42      The Decapitator                                        1      $1.75   \n",
      "\n",
      "                                                      Total Purchases  \n",
      "Item Id Item Name                                                      \n",
      "178     Oathbreaker, Last Hope of the Breaking Storm            50.76  \n",
      "82      Nirvana                                                 44.10  \n",
      "145     Fiery Glass Crusader                                    41.22  \n",
      "92      Final Critic                                            39.04  \n",
      "103     Singed Scalpel                                          34.80  \n",
      "...                                                               ...  \n",
      "125     Whistling Mithril Warblade                               2.00  \n",
      "126     Exiled Mithril Longsword                                 2.00  \n",
      "23      Crucifer                                                 1.99  \n",
      "104     Gladiator's Glaive                                       1.93  \n",
      "42      The Decapitator                                          1.75  \n",
      "\n",
      "[183 rows x 5 columns]\n"
     ]
    },
    {
     "data": {
      "text/html": [
       "<div>\n",
       "<style scoped>\n",
       "    .dataframe tbody tr th:only-of-type {\n",
       "        vertical-align: middle;\n",
       "    }\n",
       "\n",
       "    .dataframe tbody tr th {\n",
       "        vertical-align: top;\n",
       "    }\n",
       "\n",
       "    .dataframe thead th {\n",
       "        text-align: right;\n",
       "    }\n",
       "</style>\n",
       "<table border=\"1\" class=\"dataframe\">\n",
       "  <thead>\n",
       "    <tr style=\"text-align: right;\">\n",
       "      <th></th>\n",
       "      <th></th>\n",
       "      <th>Item Id</th>\n",
       "      <th>Item Name</th>\n",
       "      <th>Item Count</th>\n",
       "      <th>Item Price</th>\n",
       "      <th>Total Purchases</th>\n",
       "    </tr>\n",
       "    <tr>\n",
       "      <th>Item Id</th>\n",
       "      <th>Item Name</th>\n",
       "      <th></th>\n",
       "      <th></th>\n",
       "      <th></th>\n",
       "      <th></th>\n",
       "      <th></th>\n",
       "    </tr>\n",
       "  </thead>\n",
       "  <tbody>\n",
       "    <tr>\n",
       "      <td>178</td>\n",
       "      <td>Oathbreaker, Last Hope of the Breaking Storm</td>\n",
       "      <td>((178, Oathbreaker, Last Hope of the Breaking ...</td>\n",
       "      <td>((178, Oathbreaker, Last Hope of the Breaking ...</td>\n",
       "      <td>12</td>\n",
       "      <td>$4.23</td>\n",
       "      <td>50.76</td>\n",
       "    </tr>\n",
       "    <tr>\n",
       "      <td>82</td>\n",
       "      <td>Nirvana</td>\n",
       "      <td>((82, Nirvana), [82, 82, 82, 82, 82, 82, 82, 8...</td>\n",
       "      <td>((82, Nirvana), [Nirvana, Nirvana, Nirvana, Ni...</td>\n",
       "      <td>9</td>\n",
       "      <td>$4.90</td>\n",
       "      <td>44.10</td>\n",
       "    </tr>\n",
       "    <tr>\n",
       "      <td>145</td>\n",
       "      <td>Fiery Glass Crusader</td>\n",
       "      <td>((145, Fiery Glass Crusader), [145, 145, 145, ...</td>\n",
       "      <td>((145, Fiery Glass Crusader), [Fiery Glass Cru...</td>\n",
       "      <td>9</td>\n",
       "      <td>$4.58</td>\n",
       "      <td>41.22</td>\n",
       "    </tr>\n",
       "    <tr>\n",
       "      <td>92</td>\n",
       "      <td>Final Critic</td>\n",
       "      <td>((92, Final Critic), [92, 92, 92, 92, 92, 92, ...</td>\n",
       "      <td>((92, Final Critic), [Final Critic, Final Crit...</td>\n",
       "      <td>8</td>\n",
       "      <td>$4.88</td>\n",
       "      <td>39.04</td>\n",
       "    </tr>\n",
       "    <tr>\n",
       "      <td>103</td>\n",
       "      <td>Singed Scalpel</td>\n",
       "      <td>((103, Singed Scalpel), [103, 103, 103, 103, 1...</td>\n",
       "      <td>((103, Singed Scalpel), [Singed Scalpel, Singe...</td>\n",
       "      <td>8</td>\n",
       "      <td>$4.35</td>\n",
       "      <td>34.80</td>\n",
       "    </tr>\n",
       "  </tbody>\n",
       "</table>\n",
       "</div>"
      ],
      "text/plain": [
       "                                                                                                Item Id  \\\n",
       "Item Id Item Name                                                                                         \n",
       "178     Oathbreaker, Last Hope of the Breaking Storm  ((178, Oathbreaker, Last Hope of the Breaking ...   \n",
       "82      Nirvana                                       ((82, Nirvana), [82, 82, 82, 82, 82, 82, 82, 8...   \n",
       "145     Fiery Glass Crusader                          ((145, Fiery Glass Crusader), [145, 145, 145, ...   \n",
       "92      Final Critic                                  ((92, Final Critic), [92, 92, 92, 92, 92, 92, ...   \n",
       "103     Singed Scalpel                                ((103, Singed Scalpel), [103, 103, 103, 103, 1...   \n",
       "\n",
       "                                                                                              Item Name  \\\n",
       "Item Id Item Name                                                                                         \n",
       "178     Oathbreaker, Last Hope of the Breaking Storm  ((178, Oathbreaker, Last Hope of the Breaking ...   \n",
       "82      Nirvana                                       ((82, Nirvana), [Nirvana, Nirvana, Nirvana, Ni...   \n",
       "145     Fiery Glass Crusader                          ((145, Fiery Glass Crusader), [Fiery Glass Cru...   \n",
       "92      Final Critic                                  ((92, Final Critic), [Final Critic, Final Crit...   \n",
       "103     Singed Scalpel                                ((103, Singed Scalpel), [Singed Scalpel, Singe...   \n",
       "\n",
       "                                                      Item Count Item Price  \\\n",
       "Item Id Item Name                                                             \n",
       "178     Oathbreaker, Last Hope of the Breaking Storm          12      $4.23   \n",
       "82      Nirvana                                                9      $4.90   \n",
       "145     Fiery Glass Crusader                                   9      $4.58   \n",
       "92      Final Critic                                           8      $4.88   \n",
       "103     Singed Scalpel                                         8      $4.35   \n",
       "\n",
       "                                                      Total Purchases  \n",
       "Item Id Item Name                                                      \n",
       "178     Oathbreaker, Last Hope of the Breaking Storm            50.76  \n",
       "82      Nirvana                                                 44.10  \n",
       "145     Fiery Glass Crusader                                    41.22  \n",
       "92      Final Critic                                            39.04  \n",
       "103     Singed Scalpel                                          34.80  "
      ]
     },
     "execution_count": 488,
     "metadata": {},
     "output_type": "execute_result"
    }
   ],
   "source": [
    "most_prof = most_pop_sum.sort_values(['Total Purchases'], ascending = False)\n",
    "print(most_prof)\n",
    "most_prof.head()"
   ]
  },
  {
   "cell_type": "code",
   "execution_count": null,
   "metadata": {},
   "outputs": [],
   "source": []
  },
  {
   "cell_type": "code",
   "execution_count": null,
   "metadata": {},
   "outputs": [],
   "source": []
  }
 ],
 "metadata": {
  "anaconda-cloud": {},
  "kernel_info": {
   "name": "python3"
  },
  "kernelspec": {
   "display_name": "Python 3",
   "language": "python",
   "name": "python3"
  },
  "language_info": {
   "codemirror_mode": {
    "name": "ipython",
    "version": 3
   },
   "file_extension": ".py",
   "mimetype": "text/x-python",
   "name": "python",
   "nbconvert_exporter": "python",
   "pygments_lexer": "ipython3",
   "version": "3.7.4"
  },
  "latex_envs": {
   "LaTeX_envs_menu_present": true,
   "autoclose": false,
   "autocomplete": true,
   "bibliofile": "biblio.bib",
   "cite_by": "apalike",
   "current_citInitial": 1,
   "eqLabelWithNumbers": true,
   "eqNumInitial": 1,
   "hotkeys": {
    "equation": "Ctrl-E",
    "itemize": "Ctrl-I"
   },
   "labels_anchors": false,
   "latex_user_defs": false,
   "report_style_numbering": false,
   "user_envs_cfg": false
  },
  "nteract": {
   "version": "0.2.0"
  }
 },
 "nbformat": 4,
 "nbformat_minor": 2
}
